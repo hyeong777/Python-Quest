{
  "nbformat": 4,
  "nbformat_minor": 0,
  "metadata": {
    "colab": {
      "provenance": [],
      "authorship_tag": "ABX9TyOyegfFE1OWF+mUJ/7iYVyh"
    },
    "kernelspec": {
      "name": "python3",
      "display_name": "Python 3"
    },
    "language_info": {
      "name": "python"
    }
  },
  "cells": [
    {
      "cell_type": "code",
      "execution_count": 67,
      "metadata": {
        "colab": {
          "base_uri": "https://localhost:8080/"
        },
        "id": "CXSkI6DIJjYk",
        "outputId": "e000f00e-adf1-4cab-deba-25f0792fd370"
      },
      "outputs": [
        {
          "output_type": "stream",
          "name": "stdout",
          "text": [
            "김려원\n",
            "1000\n",
            "SC은행\n",
            "874-31-044835\n"
          ]
        }
      ],
      "source": [
        "'''\n",
        "# Q1 Account 클래스 은행에 가서 계좌를 개설하면 은행이름, 예금주, 계좌번호, 잔액이 설정됩니다.\n",
        "Account 클래스를 생성한 후에 생성자(hint: 매직매서드..!!)구현해보세요. 생성자에서는 예금주와 초기 잔액만 입력 받습니다.\n",
        "은행이름은 SC은행으로 계좌번호는 3자리-2자리-6자리 형태로 랜덤하게 생성됩니다. 은행이름: SC은행 계좌번호: 111-11-111111\n",
        "'''\n",
        "\n",
        "import random\n",
        "\n",
        "class Account:\n",
        "    def __init__(self, 예금주, 잔액):\n",
        "        self.name = 예금주\n",
        "        self.balance = 잔액\n",
        "        self.bank = \"SC은행\"\n",
        "        num1 = random.randint(0, 999)   #계좌번호 앞 세자리 랜덤\n",
        "        num2 = random.randint(0, 99)    # 계좌번호 중간 두자리\n",
        "        num3 = random.randint(0, 999999)  # 계좌번호 마지막 세자리\n",
        "\n",
        "        num1 = str(num1).zfill(3)     \n",
        "        num2 = str(num2).zfill(2)      \n",
        "        num3 = str(num3).zfill(6)      \n",
        "        self.account_number = num1 + '-' + num2 + '-' + num3  \n",
        "\n",
        "kim = Account(\"김려원\", 1000)\n",
        "print(kim.name)\n",
        "print(kim.balance)\n",
        "print(kim.bank)\n",
        "print(kim.account_number)"
      ]
    },
    {
      "cell_type": "code",
      "source": [
        "'''\n",
        "# Q2.  클래스 변수를 사용해서 Account클래스로 부터 생성된 계좌 객체의 개수를 저장하세요\n",
        "'''\n",
        "\n",
        "import random\n",
        "\n",
        "class Account:\n",
        "    # class variable\n",
        "    account_count = 0\n",
        "\n",
        "    def __init__(self, 예금주, 잔액):\n",
        "        self.예금주 = 예금주\n",
        "        self.잔액 = 잔액\n",
        "        self.bank = \"SC은행\"\n",
        "\n",
        "        num1 = random.randint(0, 999)\n",
        "        num2 = random.randint(0, 99)\n",
        "        num3 = random.randint(0, 999999)\n",
        "\n",
        "        num1 = str(num1).zfill(3)      \n",
        "        num2 = str(num2).zfill(2)      \n",
        "        num3 = str(num3).zfill(6)      \n",
        "        self.account_number = num1 + '-' + num2 + '-' + num3  \n",
        "\n",
        "        Account.account_count += 1\n",
        "\n",
        "\n",
        "kim = Account(\"김려원\", 1000)\n",
        "print(Account.account_count)\n",
        "kim_2 = Account(\"김준석\", 1200)\n",
        "print(Account.account_count)\n"
      ],
      "metadata": {
        "colab": {
          "base_uri": "https://localhost:8080/"
        },
        "id": "kmFEMBDUMCCL",
        "outputId": "d5b646d3-7f95-4799-89bc-822b2544e11d"
      },
      "execution_count": 53,
      "outputs": [
        {
          "output_type": "stream",
          "name": "stdout",
          "text": [
            "1\n",
            "2\n"
          ]
        }
      ]
    },
    {
      "cell_type": "code",
      "source": [
        "'''\n",
        "# Q3. 클래스 변수 출력 Account 클래스로부터 생성된 계좌의 개수를 출력하는 get_account_num() 메서드를 추가하세요. \n",
        " '''\n",
        "import random\n",
        "\n",
        "class Account:\n",
        "    # class variable\n",
        "    account_count = 0\n",
        "\n",
        "    def __init__(self, 예금주, 잔액):\n",
        "        self.name = 예금주\n",
        "        self.balance = 잔액\n",
        "        self.bank = \"SC은행\"\n",
        "\n",
        "        # 3-2-6\n",
        "        num1 = random.randint(0, 999)\n",
        "        num2 = random.randint(0, 99)\n",
        "        num3 = random.randint(0, 999999)\n",
        "\n",
        "        num1 = str(num1).zfill(3)      \n",
        "        num2 = str(num2).zfill(2)      \n",
        "        num3 = str(num3).zfill(6)      \n",
        "        self.account_number = num1 + '-' + num2 + '-' + num3  \n",
        "        Account.account_count +=1\n",
        "\n",
        "    @classmethod\n",
        "    def get_account_num(cls):\n",
        "        print(cls.account_count)     \n",
        "\n",
        "\n",
        "kim = Account(\"김려원\", 1000)\n",
        "kim_2 = Account(\"김준석\", 1200)\n",
        "kim.get_account_num()"
      ],
      "metadata": {
        "colab": {
          "base_uri": "https://localhost:8080/"
        },
        "id": "4l3_KMwzNXOx",
        "outputId": "4a30f08e-8d83-4fae-9eaa-874a5487f685"
      },
      "execution_count": 81,
      "outputs": [
        {
          "output_type": "stream",
          "name": "stdout",
          "text": [
            "2\n"
          ]
        }
      ]
    },
    {
      "cell_type": "code",
      "source": [
        "'''\n",
        "# Q4. 입금 메서드 Account 클래스에 입금을 위한 deposit 메서드를 추가하세요. 입금은 최소 1원 이상만 가능합니다.\n",
        "'''\n",
        "import random\n",
        "\n",
        "class Account:\n",
        "    account_count = 0 # 덧셈 초기화\n",
        "\n",
        "    def __init__(self, 예금주, 잔고):\n",
        "        self.name = 예금주\n",
        "        self.balance = 잔고\n",
        "        self.bank = \"SC은행\"\n",
        "\n",
        "        \n",
        "        num1 = random.randint(0, 999)\n",
        "        num2 = random.randint(0, 99)\n",
        "        num3 = random.randint(0, 999999)\n",
        "\n",
        "        num1 = str(num1).zfill(3)     \n",
        "        num2 = str(num2).zfill(2)      \n",
        "        num3 = str(num3).zfill(6)      \n",
        "        self.account_number = num1 + '-' + num2 + '-' + num3  \n",
        "        Account.account_count +=1\n",
        "\n",
        "    @classmethod\n",
        "    def get_account_num(cls):\n",
        "        print(cls.account_count)   \n",
        "\n",
        "    def deposit(self, amount):\n",
        "        if amount >= 1:\n",
        "            self.balance += amount\n"
      ],
      "metadata": {
        "id": "GgVJSr0nYcSo"
      },
      "execution_count": 63,
      "outputs": []
    },
    {
      "cell_type": "code",
      "source": [
        "'''\n",
        "# Q5. 출금 메서드 Account 클래스에 출금을 위한 withdraw 메서드를 추가하세요.\n",
        "출금은 계좌의 잔고 이상으로 출금할 수는 없습니다.  \n",
        "'''\n",
        "import random\n",
        "\n",
        "\n",
        "class Account:\n",
        "    \n",
        "    account_count = 0\n",
        "\n",
        "    def __init__(self, 예금주, 잔고):\n",
        "        self.name = 예금주\n",
        "        self.balance = 잔고\n",
        "        self.bank = \"SC은행\"\n",
        "\n",
        "        \n",
        "        num1 = random.randint(0, 999)\n",
        "        num2 = random.randint(0, 99)\n",
        "        num3 = random.randint(0, 999999)\n",
        "\n",
        "        num1 = str(num1).zfill(3)  \n",
        "        num2 = str(num2).zfill(2)  \n",
        "        num3 = str(num3).zfill(6)  \n",
        "        self.account_number = num1 + '-' + num2 + '-' + num3  \n",
        "        Account.account_count += 1\n",
        "\n",
        "    @classmethod\n",
        "    def get_account_num(cls):\n",
        "        print(cls.account_count)  \n",
        "    def deposit(self, amount):\n",
        "        if amount >= 1:\n",
        "            self.balance += amount\n",
        "\n",
        "    def withdraw(self, amount):\n",
        "        if self.balance > amount:\n",
        "            self.balance -= amount\n",
        "\n",
        "k = Account(\"kim\", 1000)\n",
        "k.deposit(500)\n",
        "k.withdraw(250)\n",
        "print(k.balance)\n"
      ],
      "metadata": {
        "colab": {
          "base_uri": "https://localhost:8080/"
        },
        "id": "q2AnPU9ma46B",
        "outputId": "27b7e874-e1be-4b63-9372-1cd7c04567c1"
      },
      "execution_count": 66,
      "outputs": [
        {
          "output_type": "stream",
          "name": "stdout",
          "text": [
            "1250\n"
          ]
        }
      ]
    },
    {
      "cell_type": "code",
      "source": [
        "'''\n",
        "# Q6. 정보 출력 메서드 Account 인스턴스에 저장된 정보를 출력하는 display_info()메서 메서드를 추가하세요.\n",
        "잔고는 세자리마다 쉽표를 출력하세요.\n",
        "은행이름: SC은행 예금주: 파이썬 계좌번호: 111-11-111111 잔고: 10,000원\n",
        "'''\n",
        "import random\n",
        "\n",
        "\n",
        "class Account:\n",
        "    # class variable\n",
        "    account_count = 0\n",
        "\n",
        "    def __init__(self, 예금주, 잔고):\n",
        "        self.name = 예금주\n",
        "        self.balance = 잔고\n",
        "        self.bank = \"SC은행\"\n",
        "\n",
        "        # 3-2-6\n",
        "        num1 = random.randint(0, 999)\n",
        "        num2 = random.randint(0, 99)\n",
        "        num3 = random.randint(0, 999999)\n",
        "\n",
        "        num1 = str(num1).zfill(3)  \n",
        "        num2 = str(num2).zfill(2)  \n",
        "        num3 = str(num3).zfill(6)  \n",
        "        self.account_number = num1 + '-' + num2 + '-' + num3\n",
        "        Account.account_count += 1\n",
        "\n",
        "    @classmethod\n",
        "    def get_account_num(cls):\n",
        "        print(cls.account_count)  \n",
        "\n",
        "    def deposit(self, amount):\n",
        "        if amount >= 1:\n",
        "            self.balance += amount\n",
        "\n",
        "    def withdraw(self, amount):\n",
        "        if self.balance > amount:\n",
        "            self.balance -= amount\n",
        "\n",
        "    def display_info(self):\n",
        "        print(\"은행이름: \", self.bank)\n",
        "        print(\"예금주: \", self.name)\n",
        "        print(\"계좌번호: \", self.account_number)\n",
        "        print(\"잔고: \", f\"{self.balance:,}\")\n",
        "\n",
        "\n",
        "p = Account(\"파이썬\", 20000)\n",
        "p.display_info()\n"
      ],
      "metadata": {
        "colab": {
          "base_uri": "https://localhost:8080/"
        },
        "id": "jnAvHzp46XcR",
        "outputId": "b5edd12f-e0ca-4e21-d8cf-93300716e6c6"
      },
      "execution_count": 69,
      "outputs": [
        {
          "output_type": "stream",
          "name": "stdout",
          "text": [
            "은행이름:  SC은행\n",
            "예금주:  파이썬\n",
            "계좌번호:  874-24-072383\n",
            "잔고:  20,000\n"
          ]
        }
      ]
    },
    {
      "cell_type": "code",
      "source": [
        "'''\n",
        "# Q7. 이자지급하기 입금 횟수가 5회가 될 때 잔고를 기준으로 1%의 이자가 잔고에 추가되도록 코드를 변경해보세요.\n",
        "'''\n",
        "\n",
        "import random\n",
        "\n",
        "\n",
        "class Account:\n",
        "    # class variable\n",
        "    account_count = 0\n",
        "\n",
        "    def __init__(self, 예금주, 잔고):\n",
        "        self.deposit_count = 0\n",
        "\n",
        "        self.name = 예금주\n",
        "        self.balance = 잔고\n",
        "        self.bank = \"SC은행\"\n",
        "\n",
        "        # 3-2-6\n",
        "        num1 = random.randint(0, 999)\n",
        "        num2 = random.randint(0, 99)\n",
        "        num3 = random.randint(0, 999999)\n",
        "\n",
        "        num1 = str(num1).zfill(3)  \n",
        "        num2 = str(num2).zfill(2) \n",
        "        num3 = str(num3).zfill(6)  \n",
        "        self.account_number = num1 + '-' + num2 + '-' + num3  \n",
        "        Account.account_count += 1\n",
        "\n",
        "    @classmethod\n",
        "    def get_account_num(cls):\n",
        "        print(cls.account_count) \n",
        "\n",
        "    def deposit(self, amount):\n",
        "        if amount >= 1:\n",
        "            self.balance += amount\n",
        "\n",
        "            self.deposit_count += 1\n",
        "            if self.deposit_count % 5 == 0:      # 이자 5배수\n",
        "                \n",
        "                self.balance = (self.balance * 1.01)\n",
        "\n",
        "\n",
        "    def withdraw(self, amount):\n",
        "        if self.balance > amount:\n",
        "            self.balance -= amount\n",
        "\n",
        "    def display_info(self):\n",
        "        print(\"은행이름: \", self.bank)\n",
        "        print(\"예금주: \", self.name)\n",
        "        print(\"계좌번호: \", self.account_number)\n",
        "        print(\"잔고: \", self.balance)\n",
        "\n",
        "p = Account(\"파이썬\", 20000)\n",
        "p.deposit(30000)\n",
        "p.deposit(40000)\n",
        "p.deposit(70000)\n",
        "p.deposit(8000)\n",
        "p.deposit(2000)\n",
        "print(p.balance)\n",
        "\n"
      ],
      "metadata": {
        "id": "xrn91ClMgio_",
        "colab": {
          "base_uri": "https://localhost:8080/"
        },
        "outputId": "fb6ad445-453c-497f-daaa-c53741be0d92"
      },
      "execution_count": 71,
      "outputs": [
        {
          "output_type": "stream",
          "name": "stdout",
          "text": [
            "171700.0\n"
          ]
        }
      ]
    },
    {
      "cell_type": "code",
      "source": [
        "'''\n",
        "# Q8. 여러 객체 생성 Account 클래스로 부터 3개이상 인스턴스를 생성하고 생성된 인스턴스를 리스트에 저장해보세요.\n",
        "'''\n",
        "import random\n",
        "\n",
        "\n",
        "class Account:\n",
        "    # class variable\n",
        "    account_count = 0\n",
        "\n",
        "    def __init__(self, 예금주, 잔고):\n",
        "        self.deposit_count = 0\n",
        "\n",
        "        self.name = 예금주\n",
        "        self.balance = 잔고\n",
        "        self.bank = \"SC은행\"\n",
        "\n",
        "        # 3-2-6\n",
        "        num1 = random.randint(0, 999)\n",
        "        num2 = random.randint(0, 99)\n",
        "        num3 = random.randint(0, 999999)\n",
        "\n",
        "        num1 = str(num1).zfill(3)  \n",
        "        num2 = str(num2).zfill(2)\n",
        "        num3 = str(num3).zfill(6)  \n",
        "        self.account_number = num1 + '-' + num2 + '-' + num3  \n",
        "        Account.account_count += 1\n",
        "\n",
        "    @classmethod\n",
        "    def get_account_num(cls):\n",
        "        print(cls.account_count)  \n",
        "\n",
        "    def deposit(self, amount):\n",
        "        if amount >= 1:\n",
        "            self.balance += amount\n",
        "\n",
        "            self.deposit_count += 1\n",
        "            if self.deposit_count % 5 == 0:         \n",
        "                \n",
        "                self.balance = (self.balance * 1.01)\n",
        "\n",
        "\n",
        "    def withdraw(self, amount):\n",
        "        if self.balance > amount:\n",
        "            self.balance -= amount\n",
        "\n",
        "    def display_info(self):\n",
        "        print(\"은행이름: \", self.bank)\n",
        "        print(\"예금주: \", self.name)\n",
        "        print(\"계좌번호: \", self.account_number)\n",
        "        print(\"잔고: \", self.balance)\n",
        "\n",
        "data = []\n",
        "k = Account(\"KIM\", 10000000)\n",
        "l = Account(\"LEE\", 10000)\n",
        "p = Account(\"PARK\", 10000)\n",
        "\n",
        "data.append(k)\n",
        "data.append(l)\n",
        "data.append(p)\n",
        "\n",
        "print(data)\n"
      ],
      "metadata": {
        "colab": {
          "base_uri": "https://localhost:8080/"
        },
        "id": "MGEt5VIo0nu1",
        "outputId": "a2ba63f9-bbbd-469a-878e-627ca099b503"
      },
      "execution_count": 73,
      "outputs": [
        {
          "output_type": "stream",
          "name": "stdout",
          "text": [
            "[<__main__.Account object at 0x7f409be8c550>, <__main__.Account object at 0x7f409be8eb60>, <__main__.Account object at 0x7f409be8e9e0>]\n"
          ]
        }
      ]
    },
    {
      "cell_type": "code",
      "source": [
        "'''\n",
        "# Q9. 객체 순회 반복문을 통해 리스트에 있는 객체를 순회하면서 잔고가 100만원 이상인 고객의 정보만 출력하세요.\n",
        "'''\n",
        "\n",
        "import random\n",
        "\n",
        "\n",
        "class Account:\n",
        "    # class variable\n",
        "    account_count = 0\n",
        "\n",
        "    def __init__(self, 예금주, 잔고):\n",
        "        self.deposit_count = 0\n",
        "\n",
        "        self.name = 예금주\n",
        "        self.balance = 잔고\n",
        "        self.bank = \"SC은행\"\n",
        "\n",
        "        # 3-2-6\n",
        "        num1 = random.randint(0, 999)\n",
        "        num2 = random.randint(0, 99)\n",
        "        num3 = random.randint(0, 999999)\n",
        "\n",
        "        num1 = str(num1).zfill(3)  \n",
        "        num2 = str(num2).zfill(2)  \n",
        "        num3 = str(num3).zfill(6)  \n",
        "        self.account_number = num1 + '-' + num2 + '-' + num3  \n",
        "        Account.account_count += 1\n",
        "\n",
        "    @classmethod\n",
        "    def get_account_num(cls):\n",
        "        print(cls.account_count)  \n",
        "\n",
        "    def deposit(self, amount):\n",
        "        if amount >= 1:\n",
        "            self.balance += amount\n",
        "\n",
        "            self.deposit_count += 1\n",
        "            if self.deposit_count % 5 == 0:         \n",
        "          \n",
        "                self.balance = (self.balance * 1.01)\n",
        "\n",
        "\n",
        "    def withdraw(self, amount):\n",
        "        if self.balance > amount:\n",
        "            self.balance -= amount\n",
        "\n",
        "    def display_info(self):\n",
        "        print(\"은행이름: \", self.bank)\n",
        "        print(\"예금주: \", self.name)\n",
        "        print(\"계좌번호: \", self.account_number)\n",
        "        print(\"잔고: \", self.balance)\n",
        "\n",
        "data = []\n",
        "k = Account(\"KIM\", 10000000)\n",
        "l = Account(\"LEE\", 10000)\n",
        "p = Account(\"PARK\", 10000)\n",
        "data.append(k)\n",
        "data.append(l)\n",
        "data.append(p)\n",
        "\n",
        "for c in data:\n",
        "    if c.balance >= 1000000:\n",
        "        c.display_info()"
      ],
      "metadata": {
        "colab": {
          "base_uri": "https://localhost:8080/"
        },
        "id": "SAIyElgG1ZVJ",
        "outputId": "40bbbb87-6003-4ad8-e5e6-33118d4aa78e"
      },
      "execution_count": 75,
      "outputs": [
        {
          "output_type": "stream",
          "name": "stdout",
          "text": [
            "은행이름:  SC은행\n",
            "예금주:  KIM\n",
            "계좌번호:  065-91-124395\n",
            "잔고:  10000000\n"
          ]
        }
      ]
    },
    {
      "cell_type": "code",
      "source": [
        "'''\n",
        "# MainQuest Q10. 입출금 내역 입금과 출금내역이 기록되도록 코드를 업데이트 하세요. 입금내역과 출금 내역을 출력하는\n",
        "deposit_history와 withdraw_history 메서드를 추가하세요.\n",
        "'''\n",
        "\n",
        "import random\n",
        "\n",
        "\n",
        "class Account:\n",
        "    # class variable\n",
        "    account_count = 0\n",
        "\n",
        "    def __init__(self, 예금주, 잔고):\n",
        "        self.deposit_count = 0\n",
        "        self.deposit_log = []\n",
        "        self.withdraw_log = []\n",
        "\n",
        "        self.name = 예금주\n",
        "        self.balance = 잔고\n",
        "        self.bank = \"SC은행\"\n",
        "\n",
        "        # 3-2-6\n",
        "        num1 = random.randint(0, 999)\n",
        "        num2 = random.randint(0, 99)\n",
        "        num3 = random.randint(0, 999999)\n",
        "\n",
        "        num1 = str(num1).zfill(3)  \n",
        "        num2 = str(num2).zfill(2)  \n",
        "        num3 = str(num3).zfill(6)  \n",
        "        self.account_number = num1 + '-' + num2 + '-' + num3  \n",
        "        Account.account_count += 1\n",
        "\n",
        "    @classmethod\n",
        "    def get_account_num(cls):\n",
        "        print(cls.account_count)  \n",
        "\n",
        "    def deposit(self, amount):\n",
        "        if amount >= 1:\n",
        "            self.deposit_log.append(amount)\n",
        "            self.balance += amount\n",
        "\n",
        "            self.deposit_count += 1\n",
        "            if self.deposit_count % 5 == 0:         \n",
        "                \n",
        "                self.balance = (self.balance * 1.01)\n",
        "\n",
        "\n",
        "    def withdraw(self, amount):\n",
        "        if self.balance > amount:\n",
        "            self.withdraw_log.append(amount)\n",
        "            self.balance -= amount\n",
        "\n",
        "    def display_info(self):\n",
        "        print(\"은행이름: \", self.bank)\n",
        "        print(\"예금주: \", self.name)\n",
        "        print(\"계좌번호: \", self.account_number)\n",
        "        print(\"잔고: \", self.balance)\n",
        "\n",
        "    def withdraw_history(self):\n",
        "        for amount in self.withdraw_log:\n",
        "            print(amount)\n",
        "\n",
        "    def deposit_history(self):\n",
        "        for amount in self.deposit_log:\n",
        "            print(amount)\n",
        "\n",
        "\n",
        "k = Account(\"Kim\", 3000)\n",
        "k.deposit(100)\n",
        "k.deposit(200)\n",
        "k.deposit(300)\n",
        "k.deposit_history()\n",
        "\n",
        "k.withdraw(100)\n",
        "k.withdraw(200)\n",
        "k.withdraw_history()\n"
      ],
      "metadata": {
        "colab": {
          "base_uri": "https://localhost:8080/"
        },
        "id": "DxH8iX5819me",
        "outputId": "7632b183-6247-4359-823e-6a3213af5d29"
      },
      "execution_count": 82,
      "outputs": [
        {
          "output_type": "stream",
          "name": "stdout",
          "text": [
            "100\n",
            "200\n",
            "300\n",
            "100\n",
            "200\n"
          ]
        }
      ]
    }
  ]
}