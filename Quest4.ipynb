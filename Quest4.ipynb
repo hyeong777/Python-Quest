{
  "nbformat": 4,
  "nbformat_minor": 0,
  "metadata": {
    "colab": {
      "provenance": [],
      "include_colab_link": true
    },
    "kernelspec": {
      "name": "python3",
      "display_name": "Python 3"
    },
    "language_info": {
      "name": "python"
    }
  },
  "cells": [
    {
      "cell_type": "markdown",
      "metadata": {
        "id": "view-in-github",
        "colab_type": "text"
      },
      "source": [
        "<a href=\"https://colab.research.google.com/github/hyeong777/Python-Quest/blob/main/Quest4.ipynb\" target=\"_parent\"><img src=\"https://colab.research.google.com/assets/colab-badge.svg\" alt=\"Open In Colab\"/></a>"
      ]
    },
    {
      "cell_type": "code",
      "execution_count": null,
      "metadata": {
        "id": "d84CqqcfkjbU",
        "colab": {
          "base_uri": "https://localhost:8080/"
        },
        "outputId": "d78daea5-ca81-49bc-d430-6bbe9792b8c3"
      },
      "outputs": [
        {
          "output_type": "stream",
          "name": "stdout",
          "text": [
            "Using Comprehension:\n",
            "Nemo is swimming at 3 m/s\n",
            "Dory is swimming at 5 m/s\n",
            "Marlin is swimming at 7 m/s\n",
            "Bubbles is swimming at 2 m/s\n",
            "Gill is swimming at 4 m/s\n",
            "\n",
            "Using generator:\n"
          ]
        },
        {
          "output_type": "execute_result",
          "data": {
            "text/plain": [
              "<generator object show_fish_movement_generator at 0x7f7dfe50d4d0>"
            ]
          },
          "metadata": {},
          "execution_count": 1
        }
      ],
      "source": [
        "class Fish:\n",
        "    def __init__(self, name, speed): # fish 클래스를 정의, 이름과 속력을 줌\n",
        "        self.name = name\n",
        "        self.speed = speed\n",
        "  \n",
        "    # def __repr__(self): # 물고기 속도 깔끔하게 하려고 해주는 함수 정의, 사용자가 객체 자체를 이해할 수 있게 표현해주는 메서드\n",
        "    #     return '{}{}'.format(fish_list)\n",
        "    \n",
        "def show_fish_movement_comprehension(fish_list):\n",
        "    [print(f'{fish.name} is swimming at {fish.speed} m/s')for fish in fish_list] # 컴프리헨션으로 구현\n",
        "    \n",
        "# def show_fish_movement_iterator(fish_list):\n",
        "#     fish_iter = iter(fish_list)\n",
        "#     \n",
        "#     print(f'(is swimming at ))m/s' # 이터레이터로 구현 이터러블 객체를 넣어서 해보자인데 제너레이터만 구현하기\n",
        "\n",
        "def show_fish_movement_generator(fish_list):\n",
        "        for fish in fish_list:\n",
        "            yield f'{fish.name} is swimming at {fish.speed} m/s \\n'# 제너레이터로 구현: 제너레이터 주소 값을 입력 값으로 출력해주기\n",
        "            #밑의 코드대로 동작하려면 return 값을 줘야 하는가?\n",
        "              \n",
        "fish_list = [\n",
        "    Fish(\"Nemo\", 3),\n",
        "    Fish(\"Dory\", 5),\n",
        "    Fish(\"Marlin\", 7),\n",
        "    Fish(\"Bubbles\", 2),\n",
        "    Fish(\"Gill\", 4)\n",
        "]\n",
        "\n",
        "# 물고기들의 움직임 출력\n",
        "print(\"Using Comprehension:\")\n",
        "show_fish_movement_comprehension(fish_list)\n",
        "\n",
        "print(\"\\nUsing generator:\")\n",
        "show_fish_movement_generator(fish_list)\n",
        "# print(*show_fish_movement_generator(fish_list)) # 출력하면 컴프리헨션과 똑같이 나와주지만 위의 코드만 이용해서 출력하게 해야한다면 사용 불가"
      ]
    },
    {
      "cell_type": "code",
      "source": [],
      "metadata": {
        "id": "jwUBtC-TvMvh"
      },
      "execution_count": null,
      "outputs": []
    }
  ]
}