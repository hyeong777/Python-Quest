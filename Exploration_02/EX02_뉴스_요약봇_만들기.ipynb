{
  "cells": [
    {
      "cell_type": "markdown",
      "metadata": {
        "id": "view-in-github",
        "colab_type": "text"
      },
      "source": [
        "<a href=\"https://colab.research.google.com/github/hyeong777/Python-Quest/blob/main/EX02_%EB%89%B4%EC%8A%A4_%EC%9A%94%EC%95%BD%EB%B4%87_%EB%A7%8C%EB%93%A4%EA%B8%B0.ipynb\" target=\"_parent\"><img src=\"https://colab.research.google.com/assets/colab-badge.svg\" alt=\"Open In Colab\"/></a>"
      ]
    },
    {
      "cell_type": "markdown",
      "metadata": {
        "id": "NuYHgRvVdsSl"
      },
      "source": [
        "# EX02.뉴스 요약봇 만들기"
      ]
    },
    {
      "cell_type": "markdown",
      "metadata": {
        "id": "965nUIQAdsSn"
      },
      "source": [
        "## Import"
      ]
    },
    {
      "cell_type": "code",
      "source": [
        "!pip install summa"
      ],
      "metadata": {
        "colab": {
          "base_uri": "https://localhost:8080/"
        },
        "id": "5dyNskddg7qg",
        "outputId": "a7583e31-f3c8-4960-cd3a-3c0ceb8e3422"
      },
      "execution_count": null,
      "outputs": [
        {
          "output_type": "stream",
          "name": "stdout",
          "text": [
            "Collecting summa\n",
            "  Downloading summa-1.2.0.tar.gz (54 kB)\n",
            "\u001b[?25l     \u001b[90m━━━━━━━━━━━━━━━━━━━━━━━━━━━━━━━━━━━━━━━━\u001b[0m \u001b[32m0.0/54.9 kB\u001b[0m \u001b[31m?\u001b[0m eta \u001b[36m-:--:--\u001b[0m\r\u001b[2K     \u001b[90m━━━━━━━━━━━━━━━━━━━━━━━━━━━━━━━━━━━━━━━━\u001b[0m \u001b[32m54.9/54.9 kB\u001b[0m \u001b[31m1.9 MB/s\u001b[0m eta \u001b[36m0:00:00\u001b[0m\n",
            "\u001b[?25h  Preparing metadata (setup.py) ... \u001b[?25l\u001b[?25hdone\n",
            "Requirement already satisfied: scipy>=0.19 in /usr/local/lib/python3.10/dist-packages (from summa) (1.10.1)\n",
            "Requirement already satisfied: numpy<1.27.0,>=1.19.5 in /usr/local/lib/python3.10/dist-packages (from scipy>=0.19->summa) (1.22.4)\n",
            "Building wheels for collected packages: summa\n",
            "  Building wheel for summa (setup.py) ... \u001b[?25l\u001b[?25hdone\n",
            "  Created wheel for summa: filename=summa-1.2.0-py3-none-any.whl size=54389 sha256=fb8e2a5bc46b69d7475b90f52bc584d58544d7e9d0075a06b2ac4bfa70743b7b\n",
            "  Stored in directory: /root/.cache/pip/wheels/4a/ca/c5/4958614cfba88ed6ceb7cb5a849f9f89f9ac49971616bc919f\n",
            "Successfully built summa\n",
            "Installing collected packages: summa\n",
            "Successfully installed summa-1.2.0\n"
          ]
        }
      ]
    },
    {
      "cell_type": "code",
      "execution_count": null,
      "metadata": {
        "id": "WRyW_ifgdsSn"
      },
      "outputs": [],
      "source": [
        "import os\n",
        "import numpy as np\n",
        "import pandas as pd\n",
        "import re\n",
        "import matplotlib.pyplot as plt\n",
        "import nltk\n",
        "from nltk.corpus import stopwords\n",
        "from bs4 import BeautifulSoup\n",
        "import urllib.request\n",
        "import requests\n",
        "from summa.summarizer import summarize\n",
        "\n",
        "from tensorflow.keras.preprocessing.text import Tokenizer\n",
        "from tensorflow.keras.preprocessing.sequence import pad_sequences\n",
        "from tensorflow.keras.layers import Input, LSTM, Embedding, Dense, Concatenate\n",
        "from tensorflow.keras.models import Model\n",
        "from tensorflow.keras.callbacks import EarlyStopping, ModelCheckpoint\n"
      ]
    },
    {
      "cell_type": "markdown",
      "metadata": {
        "id": "_L9UG5rTdsSo"
      },
      "source": [
        "## Dataset"
      ]
    },
    {
      "cell_type": "code",
      "execution_count": null,
      "metadata": {
        "id": "oRFISe__dsSo"
      },
      "outputs": [],
      "source": [
        "urllib.request.urlretrieve(\"https://raw.githubusercontent.com/sunnysai12345/News_Summary/master/news_summary_more.csv\", filename=\"news_summary_more.csv\")\n",
        "data = pd.read_csv('news_summary_more.csv', encoding='iso-8859-1')"
      ]
    },
    {
      "cell_type": "code",
      "execution_count": null,
      "metadata": {
        "id": "GmEH6YKSdsSo",
        "outputId": "0a7897f4-ce63-4ae8-ba67-035be8130335",
        "colab": {
          "base_uri": "https://localhost:8080/",
          "height": 363
        }
      },
      "outputs": [
        {
          "output_type": "execute_result",
          "data": {
            "text/plain": [
              "                                               headlines  \\\n",
              "64330  Malta journo's death may be linked to fuel-smu...   \n",
              "59461  PV Sindhu beats world number 2 to reach Hong K...   \n",
              "86271  Bopanna ousts Sania from French Open with win ...   \n",
              "39211  India's GDP growth may cross 8% in next 2 yrs:...   \n",
              "97169  4 killed, 40 injured in terror attack on UK Pa...   \n",
              "88107  Shilpa, husband get anticipatory bail in cheat...   \n",
              "266    Jet seeks shareholders' approval to convert de...   \n",
              "21663  When time flies: 'Kuch Kuch Hota Hai' child ac...   \n",
              "88444  Aamir, Rishi, Kajol attend Reema Lagoo's funer...   \n",
              "28431  I-T Dept directs Robert Vadra to pay Ã¢ÂÂ¹25 ...   \n",
              "\n",
              "                                                    text  \n",
              "64330  The murder of Maltese journalist Caruana Galiz...  \n",
              "59461  World number three Indian shuttler PV Sindhu d...  \n",
              "86271  Rohan Bopanna and his Canadian mixed doubles p...  \n",
              "39211  India's GDP growth is likely to cross 8% in th...  \n",
              "97169  Four people were killed and at least 40 civili...  \n",
              "88107  Actress Shilpa Shetty and her husband Raj Kund...  \n",
              "266    Cash-strapped Jet Airways on Monday said it is...  \n",
              "21663  Parzaan Dastur, who was a child artist when he...  \n",
              "88444  Celebrities including Rishi Kapoor, Kajol, Mah...  \n",
              "28431  The Income Tax Department has directed Congres...  "
            ],
            "text/html": [
              "\n",
              "\n",
              "  <div id=\"df-d8452530-1133-4e40-8944-86bb13c968bf\">\n",
              "    <div class=\"colab-df-container\">\n",
              "      <div>\n",
              "<style scoped>\n",
              "    .dataframe tbody tr th:only-of-type {\n",
              "        vertical-align: middle;\n",
              "    }\n",
              "\n",
              "    .dataframe tbody tr th {\n",
              "        vertical-align: top;\n",
              "    }\n",
              "\n",
              "    .dataframe thead th {\n",
              "        text-align: right;\n",
              "    }\n",
              "</style>\n",
              "<table border=\"1\" class=\"dataframe\">\n",
              "  <thead>\n",
              "    <tr style=\"text-align: right;\">\n",
              "      <th></th>\n",
              "      <th>headlines</th>\n",
              "      <th>text</th>\n",
              "    </tr>\n",
              "  </thead>\n",
              "  <tbody>\n",
              "    <tr>\n",
              "      <th>64330</th>\n",
              "      <td>Malta journo's death may be linked to fuel-smu...</td>\n",
              "      <td>The murder of Maltese journalist Caruana Galiz...</td>\n",
              "    </tr>\n",
              "    <tr>\n",
              "      <th>59461</th>\n",
              "      <td>PV Sindhu beats world number 2 to reach Hong K...</td>\n",
              "      <td>World number three Indian shuttler PV Sindhu d...</td>\n",
              "    </tr>\n",
              "    <tr>\n",
              "      <th>86271</th>\n",
              "      <td>Bopanna ousts Sania from French Open with win ...</td>\n",
              "      <td>Rohan Bopanna and his Canadian mixed doubles p...</td>\n",
              "    </tr>\n",
              "    <tr>\n",
              "      <th>39211</th>\n",
              "      <td>India's GDP growth may cross 8% in next 2 yrs:...</td>\n",
              "      <td>India's GDP growth is likely to cross 8% in th...</td>\n",
              "    </tr>\n",
              "    <tr>\n",
              "      <th>97169</th>\n",
              "      <td>4 killed, 40 injured in terror attack on UK Pa...</td>\n",
              "      <td>Four people were killed and at least 40 civili...</td>\n",
              "    </tr>\n",
              "    <tr>\n",
              "      <th>88107</th>\n",
              "      <td>Shilpa, husband get anticipatory bail in cheat...</td>\n",
              "      <td>Actress Shilpa Shetty and her husband Raj Kund...</td>\n",
              "    </tr>\n",
              "    <tr>\n",
              "      <th>266</th>\n",
              "      <td>Jet seeks shareholders' approval to convert de...</td>\n",
              "      <td>Cash-strapped Jet Airways on Monday said it is...</td>\n",
              "    </tr>\n",
              "    <tr>\n",
              "      <th>21663</th>\n",
              "      <td>When time flies: 'Kuch Kuch Hota Hai' child ac...</td>\n",
              "      <td>Parzaan Dastur, who was a child artist when he...</td>\n",
              "    </tr>\n",
              "    <tr>\n",
              "      <th>88444</th>\n",
              "      <td>Aamir, Rishi, Kajol attend Reema Lagoo's funer...</td>\n",
              "      <td>Celebrities including Rishi Kapoor, Kajol, Mah...</td>\n",
              "    </tr>\n",
              "    <tr>\n",
              "      <th>28431</th>\n",
              "      <td>I-T Dept directs Robert Vadra to pay Ã¢ÂÂ¹25 ...</td>\n",
              "      <td>The Income Tax Department has directed Congres...</td>\n",
              "    </tr>\n",
              "  </tbody>\n",
              "</table>\n",
              "</div>\n",
              "      <button class=\"colab-df-convert\" onclick=\"convertToInteractive('df-d8452530-1133-4e40-8944-86bb13c968bf')\"\n",
              "              title=\"Convert this dataframe to an interactive table.\"\n",
              "              style=\"display:none;\">\n",
              "\n",
              "  <svg xmlns=\"http://www.w3.org/2000/svg\" height=\"24px\"viewBox=\"0 0 24 24\"\n",
              "       width=\"24px\">\n",
              "    <path d=\"M0 0h24v24H0V0z\" fill=\"none\"/>\n",
              "    <path d=\"M18.56 5.44l.94 2.06.94-2.06 2.06-.94-2.06-.94-.94-2.06-.94 2.06-2.06.94zm-11 1L8.5 8.5l.94-2.06 2.06-.94-2.06-.94L8.5 2.5l-.94 2.06-2.06.94zm10 10l.94 2.06.94-2.06 2.06-.94-2.06-.94-.94-2.06-.94 2.06-2.06.94z\"/><path d=\"M17.41 7.96l-1.37-1.37c-.4-.4-.92-.59-1.43-.59-.52 0-1.04.2-1.43.59L10.3 9.45l-7.72 7.72c-.78.78-.78 2.05 0 2.83L4 21.41c.39.39.9.59 1.41.59.51 0 1.02-.2 1.41-.59l7.78-7.78 2.81-2.81c.8-.78.8-2.07 0-2.86zM5.41 20L4 18.59l7.72-7.72 1.47 1.35L5.41 20z\"/>\n",
              "  </svg>\n",
              "      </button>\n",
              "\n",
              "\n",
              "\n",
              "    <div id=\"df-bbe236e2-e33f-4bc1-9f04-41ece689bc84\">\n",
              "      <button class=\"colab-df-quickchart\" onclick=\"quickchart('df-bbe236e2-e33f-4bc1-9f04-41ece689bc84')\"\n",
              "              title=\"Suggest charts.\"\n",
              "              style=\"display:none;\">\n",
              "\n",
              "<svg xmlns=\"http://www.w3.org/2000/svg\" height=\"24px\"viewBox=\"0 0 24 24\"\n",
              "     width=\"24px\">\n",
              "    <g>\n",
              "        <path d=\"M19 3H5c-1.1 0-2 .9-2 2v14c0 1.1.9 2 2 2h14c1.1 0 2-.9 2-2V5c0-1.1-.9-2-2-2zM9 17H7v-7h2v7zm4 0h-2V7h2v10zm4 0h-2v-4h2v4z\"/>\n",
              "    </g>\n",
              "</svg>\n",
              "      </button>\n",
              "    </div>\n",
              "\n",
              "<style>\n",
              "  .colab-df-quickchart {\n",
              "    background-color: #E8F0FE;\n",
              "    border: none;\n",
              "    border-radius: 50%;\n",
              "    cursor: pointer;\n",
              "    display: none;\n",
              "    fill: #1967D2;\n",
              "    height: 32px;\n",
              "    padding: 0 0 0 0;\n",
              "    width: 32px;\n",
              "  }\n",
              "\n",
              "  .colab-df-quickchart:hover {\n",
              "    background-color: #E2EBFA;\n",
              "    box-shadow: 0px 1px 2px rgba(60, 64, 67, 0.3), 0px 1px 3px 1px rgba(60, 64, 67, 0.15);\n",
              "    fill: #174EA6;\n",
              "  }\n",
              "\n",
              "  [theme=dark] .colab-df-quickchart {\n",
              "    background-color: #3B4455;\n",
              "    fill: #D2E3FC;\n",
              "  }\n",
              "\n",
              "  [theme=dark] .colab-df-quickchart:hover {\n",
              "    background-color: #434B5C;\n",
              "    box-shadow: 0px 1px 3px 1px rgba(0, 0, 0, 0.15);\n",
              "    filter: drop-shadow(0px 1px 2px rgba(0, 0, 0, 0.3));\n",
              "    fill: #FFFFFF;\n",
              "  }\n",
              "</style>\n",
              "\n",
              "    <script>\n",
              "      async function quickchart(key) {\n",
              "        const containerElement = document.querySelector('#' + key);\n",
              "        const charts = await google.colab.kernel.invokeFunction(\n",
              "            'suggestCharts', [key], {});\n",
              "      }\n",
              "    </script>\n",
              "\n",
              "      <script>\n",
              "\n",
              "function displayQuickchartButton(domScope) {\n",
              "  let quickchartButtonEl =\n",
              "    domScope.querySelector('#df-bbe236e2-e33f-4bc1-9f04-41ece689bc84 button.colab-df-quickchart');\n",
              "  quickchartButtonEl.style.display =\n",
              "    google.colab.kernel.accessAllowed ? 'block' : 'none';\n",
              "}\n",
              "\n",
              "        displayQuickchartButton(document);\n",
              "      </script>\n",
              "      <style>\n",
              "    .colab-df-container {\n",
              "      display:flex;\n",
              "      flex-wrap:wrap;\n",
              "      gap: 12px;\n",
              "    }\n",
              "\n",
              "    .colab-df-convert {\n",
              "      background-color: #E8F0FE;\n",
              "      border: none;\n",
              "      border-radius: 50%;\n",
              "      cursor: pointer;\n",
              "      display: none;\n",
              "      fill: #1967D2;\n",
              "      height: 32px;\n",
              "      padding: 0 0 0 0;\n",
              "      width: 32px;\n",
              "    }\n",
              "\n",
              "    .colab-df-convert:hover {\n",
              "      background-color: #E2EBFA;\n",
              "      box-shadow: 0px 1px 2px rgba(60, 64, 67, 0.3), 0px 1px 3px 1px rgba(60, 64, 67, 0.15);\n",
              "      fill: #174EA6;\n",
              "    }\n",
              "\n",
              "    [theme=dark] .colab-df-convert {\n",
              "      background-color: #3B4455;\n",
              "      fill: #D2E3FC;\n",
              "    }\n",
              "\n",
              "    [theme=dark] .colab-df-convert:hover {\n",
              "      background-color: #434B5C;\n",
              "      box-shadow: 0px 1px 3px 1px rgba(0, 0, 0, 0.15);\n",
              "      filter: drop-shadow(0px 1px 2px rgba(0, 0, 0, 0.3));\n",
              "      fill: #FFFFFF;\n",
              "    }\n",
              "  </style>\n",
              "\n",
              "      <script>\n",
              "        const buttonEl =\n",
              "          document.querySelector('#df-d8452530-1133-4e40-8944-86bb13c968bf button.colab-df-convert');\n",
              "        buttonEl.style.display =\n",
              "          google.colab.kernel.accessAllowed ? 'block' : 'none';\n",
              "\n",
              "        async function convertToInteractive(key) {\n",
              "          const element = document.querySelector('#df-d8452530-1133-4e40-8944-86bb13c968bf');\n",
              "          const dataTable =\n",
              "            await google.colab.kernel.invokeFunction('convertToInteractive',\n",
              "                                                     [key], {});\n",
              "          if (!dataTable) return;\n",
              "\n",
              "          const docLinkHtml = 'Like what you see? Visit the ' +\n",
              "            '<a target=\"_blank\" href=https://colab.research.google.com/notebooks/data_table.ipynb>data table notebook</a>'\n",
              "            + ' to learn more about interactive tables.';\n",
              "          element.innerHTML = '';\n",
              "          dataTable['output_type'] = 'display_data';\n",
              "          await google.colab.output.renderOutput(dataTable, element);\n",
              "          const docLink = document.createElement('div');\n",
              "          docLink.innerHTML = docLinkHtml;\n",
              "          element.appendChild(docLink);\n",
              "        }\n",
              "      </script>\n",
              "    </div>\n",
              "  </div>\n"
            ]
          },
          "metadata": {},
          "execution_count": 6
        }
      ],
      "source": [
        "data.sample(10)"
      ]
    },
    {
      "cell_type": "markdown",
      "metadata": {
        "id": "vPwDfBYBdsSp"
      },
      "source": [
        "## Preprocessing"
      ]
    },
    {
      "cell_type": "code",
      "execution_count": null,
      "metadata": {
        "id": "M_0SQtjrdsSp",
        "outputId": "a1e7bc0a-5156-4be2-f6ab-af42ec0bb47a",
        "colab": {
          "base_uri": "https://localhost:8080/"
        }
      },
      "outputs": [
        {
          "output_type": "stream",
          "name": "stdout",
          "text": [
            "text 열에서 중복을 배제한 유일한 샘플의 수 : 98360\n",
            "headlines 열에서 중복을 배제한 유일한 샘플의 수 : 98280\n"
          ]
        }
      ],
      "source": [
        "print('text 열에서 중복을 배제한 유일한 샘플의 수 :', data['text'].nunique())\n",
        "print('headlines 열에서 중복을 배제한 유일한 샘플의 수 :', data['headlines'].nunique())"
      ]
    },
    {
      "cell_type": "code",
      "execution_count": null,
      "metadata": {
        "id": "liYZH_rFdsSq",
        "outputId": "29b4a5b8-de14-4356-cd88-bbc4f4647dca",
        "colab": {
          "base_uri": "https://localhost:8080/"
        }
      },
      "outputs": [
        {
          "output_type": "stream",
          "name": "stdout",
          "text": [
            "전체 샘플수 : 98360\n"
          ]
        }
      ],
      "source": [
        "data.drop_duplicates(subset = ['text'], inplace = True)\n",
        "print('전체 샘플수 :',(len(data)))"
      ]
    },
    {
      "cell_type": "code",
      "execution_count": null,
      "metadata": {
        "id": "kxNym5xadsSq",
        "outputId": "a209f9eb-4936-4d59-d745-94194210302c",
        "colab": {
          "base_uri": "https://localhost:8080/"
        }
      },
      "outputs": [
        {
          "output_type": "stream",
          "name": "stdout",
          "text": [
            "headlines    0\n",
            "text         0\n",
            "dtype: int64\n"
          ]
        }
      ],
      "source": [
        "print(data.isnull().sum())"
      ]
    },
    {
      "cell_type": "code",
      "execution_count": null,
      "metadata": {
        "id": "6_QCPY_sdsSq",
        "outputId": "ec50cbd7-3f2d-4590-d25e-40f8f3b70ceb",
        "colab": {
          "base_uri": "https://localhost:8080/"
        }
      },
      "outputs": [
        {
          "output_type": "stream",
          "name": "stdout",
          "text": [
            "전체 샘플수 : 98360\n"
          ]
        }
      ],
      "source": [
        "data.dropna(axis = 0, inplace = True)\n",
        "print('전체 샘플수 :',(len(data)))"
      ]
    },
    {
      "cell_type": "code",
      "execution_count": null,
      "metadata": {
        "id": "HP9hz4I9dsSq",
        "outputId": "eb593761-8874-4a40-df09-736ab6262138",
        "colab": {
          "base_uri": "https://localhost:8080/"
        }
      },
      "outputs": [
        {
          "output_type": "stream",
          "name": "stdout",
          "text": [
            "정규화 사전의 수:  120\n"
          ]
        }
      ],
      "source": [
        "contractions = {\"ain't\": \"is not\", \"aren't\": \"are not\",\"can't\": \"cannot\", \"'cause\": \"because\", \"could've\": \"could have\", \"couldn't\": \"could not\",\n",
        "                           \"didn't\": \"did not\",  \"doesn't\": \"does not\", \"don't\": \"do not\", \"hadn't\": \"had not\", \"hasn't\": \"has not\", \"haven't\": \"have not\",\n",
        "                           \"he'd\": \"he would\",\"he'll\": \"he will\", \"he's\": \"he is\", \"how'd\": \"how did\", \"how'd'y\": \"how do you\", \"how'll\": \"how will\", \"how's\": \"how is\",\n",
        "                           \"I'd\": \"I would\", \"I'd've\": \"I would have\", \"I'll\": \"I will\", \"I'll've\": \"I will have\",\"I'm\": \"I am\", \"I've\": \"I have\", \"i'd\": \"i would\",\n",
        "                           \"i'd've\": \"i would have\", \"i'll\": \"i will\",  \"i'll've\": \"i will have\",\"i'm\": \"i am\", \"i've\": \"i have\", \"isn't\": \"is not\", \"it'd\": \"it would\",\n",
        "                           \"it'd've\": \"it would have\", \"it'll\": \"it will\", \"it'll've\": \"it will have\",\"it's\": \"it is\", \"let's\": \"let us\", \"ma'am\": \"madam\",\n",
        "                           \"mayn't\": \"may not\", \"might've\": \"might have\",\"mightn't\": \"might not\",\"mightn't've\": \"might not have\", \"must've\": \"must have\",\n",
        "                           \"mustn't\": \"must not\", \"mustn't've\": \"must not have\", \"needn't\": \"need not\", \"needn't've\": \"need not have\",\"o'clock\": \"of the clock\",\n",
        "                           \"oughtn't\": \"ought not\", \"oughtn't've\": \"ought not have\", \"shan't\": \"shall not\", \"sha'n't\": \"shall not\", \"shan't've\": \"shall not have\",\n",
        "                           \"she'd\": \"she would\", \"she'd've\": \"she would have\", \"she'll\": \"she will\", \"she'll've\": \"she will have\", \"she's\": \"she is\",\n",
        "                           \"should've\": \"should have\", \"shouldn't\": \"should not\", \"shouldn't've\": \"should not have\", \"so've\": \"so have\",\"so's\": \"so as\",\n",
        "                           \"this's\": \"this is\",\"that'd\": \"that would\", \"that'd've\": \"that would have\", \"that's\": \"that is\", \"there'd\": \"there would\",\n",
        "                           \"there'd've\": \"there would have\", \"there's\": \"there is\", \"here's\": \"here is\",\"they'd\": \"they would\", \"they'd've\": \"they would have\",\n",
        "                           \"they'll\": \"they will\", \"they'll've\": \"they will have\", \"they're\": \"they are\", \"they've\": \"they have\", \"to've\": \"to have\",\n",
        "                           \"wasn't\": \"was not\", \"we'd\": \"we would\", \"we'd've\": \"we would have\", \"we'll\": \"we will\", \"we'll've\": \"we will have\", \"we're\": \"we are\",\n",
        "                           \"we've\": \"we have\", \"weren't\": \"were not\", \"what'll\": \"what will\", \"what'll've\": \"what will have\", \"what're\": \"what are\",\n",
        "                           \"what's\": \"what is\", \"what've\": \"what have\", \"when's\": \"when is\", \"when've\": \"when have\", \"where'd\": \"where did\", \"where's\": \"where is\",\n",
        "                           \"where've\": \"where have\", \"who'll\": \"who will\", \"who'll've\": \"who will have\", \"who's\": \"who is\", \"who've\": \"who have\",\n",
        "                           \"why's\": \"why is\", \"why've\": \"why have\", \"will've\": \"will have\", \"won't\": \"will not\", \"won't've\": \"will not have\",\n",
        "                           \"would've\": \"would have\", \"wouldn't\": \"would not\", \"wouldn't've\": \"would not have\", \"y'all\": \"you all\",\n",
        "                           \"y'all'd\": \"you all would\",\"y'all'd've\": \"you all would have\",\"y'all're\": \"you all are\",\"y'all've\": \"you all have\",\n",
        "                           \"you'd\": \"you would\", \"you'd've\": \"you would have\", \"you'll\": \"you will\", \"you'll've\": \"you will have\",\n",
        "                           \"you're\": \"you are\", \"you've\": \"you have\"}\n",
        "\n",
        "print(\"정규화 사전의 수: \",len(contractions))"
      ]
    },
    {
      "cell_type": "code",
      "execution_count": null,
      "metadata": {
        "id": "JJ9Jj02tdsSr",
        "outputId": "6d4f5ae7-6271-43ba-cdb1-1160a6daa845",
        "colab": {
          "base_uri": "https://localhost:8080/"
        }
      },
      "outputs": [
        {
          "output_type": "stream",
          "name": "stderr",
          "text": [
            "[nltk_data] Downloading package stopwords to /root/nltk_data...\n",
            "[nltk_data]   Unzipping corpora/stopwords.zip.\n"
          ]
        },
        {
          "output_type": "execute_result",
          "data": {
            "text/plain": [
              "True"
            ]
          },
          "metadata": {},
          "execution_count": 12
        }
      ],
      "source": [
        "nltk.download('stopwords')"
      ]
    },
    {
      "cell_type": "code",
      "execution_count": null,
      "metadata": {
        "id": "HO5ClrncdsSr",
        "outputId": "2c4621da-6e94-4c28-99fa-fc39d8d8abd3",
        "colab": {
          "base_uri": "https://localhost:8080/"
        }
      },
      "outputs": [
        {
          "output_type": "stream",
          "name": "stdout",
          "text": [
            "불용어 개수 : 179\n",
            "['i', 'me', 'my', 'myself', 'we', 'our', 'ours', 'ourselves', 'you', \"you're\", \"you've\", \"you'll\", \"you'd\", 'your', 'yours', 'yourself', 'yourselves', 'he', 'him', 'his', 'himself', 'she', \"she's\", 'her', 'hers', 'herself', 'it', \"it's\", 'its', 'itself', 'they', 'them', 'their', 'theirs', 'themselves', 'what', 'which', 'who', 'whom', 'this', 'that', \"that'll\", 'these', 'those', 'am', 'is', 'are', 'was', 'were', 'be', 'been', 'being', 'have', 'has', 'had', 'having', 'do', 'does', 'did', 'doing', 'a', 'an', 'the', 'and', 'but', 'if', 'or', 'because', 'as', 'until', 'while', 'of', 'at', 'by', 'for', 'with', 'about', 'against', 'between', 'into', 'through', 'during', 'before', 'after', 'above', 'below', 'to', 'from', 'up', 'down', 'in', 'out', 'on', 'off', 'over', 'under', 'again', 'further', 'then', 'once', 'here', 'there', 'when', 'where', 'why', 'how', 'all', 'any', 'both', 'each', 'few', 'more', 'most', 'other', 'some', 'such', 'no', 'nor', 'not', 'only', 'own', 'same', 'so', 'than', 'too', 'very', 's', 't', 'can', 'will', 'just', 'don', \"don't\", 'should', \"should've\", 'now', 'd', 'll', 'm', 'o', 're', 've', 'y', 'ain', 'aren', \"aren't\", 'couldn', \"couldn't\", 'didn', \"didn't\", 'doesn', \"doesn't\", 'hadn', \"hadn't\", 'hasn', \"hasn't\", 'haven', \"haven't\", 'isn', \"isn't\", 'ma', 'mightn', \"mightn't\", 'mustn', \"mustn't\", 'needn', \"needn't\", 'shan', \"shan't\", 'shouldn', \"shouldn't\", 'wasn', \"wasn't\", 'weren', \"weren't\", 'won', \"won't\", 'wouldn', \"wouldn't\"]\n"
          ]
        }
      ],
      "source": [
        "print('불용어 개수 :', len(stopwords.words('english') ))\n",
        "print(stopwords.words('english'))"
      ]
    },
    {
      "cell_type": "code",
      "execution_count": null,
      "metadata": {
        "id": "TtM0JBpydsSr"
      },
      "outputs": [],
      "source": [
        "#데이터 전처리 함수\n",
        "def preprocess_sentence(sentence, remove_stopwords=True):\n",
        "    sentence = sentence.lower() # 텍스트 소문자화\n",
        "    sentence = BeautifulSoup(sentence, \"lxml\").text # <br />, <a href = ...> 등의 html 태그 제거\n",
        "    sentence = re.sub(r'\\([^)]*\\)', '', sentence) # 괄호로 닫힌 문자열 (...) 제거 Ex) my husband (and myself!) for => my husband for\n",
        "    sentence = re.sub('\"','', sentence) # 쌍따옴표 \" 제거\n",
        "    sentence = ' '.join([contractions[t] if t in contractions else t for t in sentence.split(\" \")]) # 약어 정규화\n",
        "    sentence = re.sub(r\"'s\\b\",\"\",sentence) # 소유격 제거. Ex) roland's -> roland\n",
        "    sentence = re.sub(\"[^a-zA-Z]\", \" \", sentence) # 영어 외 문자(숫자, 특수문자 등) 공백으로 변환\n",
        "    sentence = re.sub('[m]{2,}', 'mm', sentence) # m이 3개 이상이면 2개로 변경. Ex) ummmmmmm yeah -> umm yeah\n",
        "\n",
        "    # 불용어 제거 (test)\n",
        "    if remove_stopwords:\n",
        "        tokens = ' '.join(word for word in sentence.split() if not word in stopwords.words('english') if len(word) > 1)\n",
        "    # 불용어 미제거 (headlines)\n",
        "    else:\n",
        "        tokens = ' '.join(word for word in sentence.split() if len(word) > 1)\n",
        "    return tokens"
      ]
    },
    {
      "cell_type": "code",
      "execution_count": null,
      "metadata": {
        "id": "55LMMky5dsSs",
        "outputId": "096d7fa3-ca87-45bd-e2ba-136aceca450d",
        "colab": {
          "base_uri": "https://localhost:8080/",
          "height": 34
        }
      },
      "outputs": [
        {
          "output_type": "execute_result",
          "data": {
            "text/plain": [
              "'upGrad learner switches to career in ML & Al with 90% salary hike'"
            ],
            "application/vnd.google.colaboratory.intrinsic+json": {
              "type": "string"
            }
          },
          "metadata": {},
          "execution_count": 15
        }
      ],
      "source": [
        "data.sample(1)\n",
        "data['headlines'][0]"
      ]
    },
    {
      "cell_type": "code",
      "execution_count": null,
      "metadata": {
        "id": "7lbBw7gBdsSs",
        "outputId": "a0e9ab75-a535-493e-966c-b4d04444bd90",
        "colab": {
          "base_uri": "https://localhost:8080/"
        }
      },
      "outputs": [
        {
          "output_type": "stream",
          "name": "stdout",
          "text": [
            "Saurav Kant, an alumnus of upGrad and IIIT-B's PG Program in Machine learning and Artificial Intelligence, was a Sr Systems Engineer at Infosys with almost 5 years of work experience. The program and upGrad's 360-degree career support helped him transition to a Data Scientist at Tech Mahindra with 90% salary hike. upGrad's Online Power Learning has powered 3 lakh+ careers.\n",
            "upGrad learner switches to career in ML & Al with 90% salary hike\n",
            "\n",
            "saurav kant alumnus upgrad iiit pg program machine learning artificial intelligence sr systems engineer infosys almost years work experience program upgrad degree career support helped transition data scientist tech mahindra salary hike upgrad online power learning powered lakh careers\n",
            "upgrad learner switches to career in ml al with salary hike\n"
          ]
        }
      ],
      "source": [
        "temp_text = data['text'][0]\n",
        "temp_headlines = data['headlines'][0]\n",
        "\n",
        "print(temp_text)\n",
        "print(temp_headlines)\n",
        "print()\n",
        "print(preprocess_sentence(temp_text))\n",
        "print(preprocess_sentence(temp_headlines, False))  # 불용어를 제거하지 않습니다."
      ]
    },
    {
      "cell_type": "code",
      "execution_count": null,
      "metadata": {
        "id": "09jqw2JMdsSs",
        "outputId": "497c5be8-f506-47f2-d49c-90495506a3c7",
        "colab": {
          "base_uri": "https://localhost:8080/"
        }
      },
      "outputs": [
        {
          "output_type": "execute_result",
          "data": {
            "text/plain": [
              "['saurav kant alumnus upgrad iiit pg program machine learning artificial intelligence sr systems engineer infosys almost years work experience program upgrad degree career support helped transition data scientist tech mahindra salary hike upgrad online power learning powered lakh careers',\n",
              " 'kunal shah credit card bill payment platform cred gave users chance win free food swiggy one year pranav kaushik delhi techie bagged reward spending cred coins users get one cred coin per rupee bill paid used avail rewards brands like ixigo bookmyshow ubereats cult fit',\n",
              " 'new zealand defeated india wickets fourth odi hamilton thursday win first match five match odi series india lost international match rohit sharma captaincy consecutive victories dating back march match witnessed india getting seventh lowest total odi cricket history',\n",
              " 'aegon life iterm insurance plan customers enjoy tax benefits premiums paid save taxes plan provides life cover age years also customers options insure critical illnesses disability accidental death benefit rider life cover age years',\n",
              " 'speaking sexual harassment allegations rajkumar hirani sonam kapoor said known hirani many years true metoo movement get derailed metoo movement always believe woman case need reserve judgment added hirani accused assistant worked sanju']"
            ]
          },
          "metadata": {},
          "execution_count": 17
        }
      ],
      "source": [
        "clean_text = []\n",
        "\n",
        "# 전체 Text 데이터에 대한 전처리\n",
        "for s in data['text']:\n",
        "    clean_text.append(preprocess_sentence(s))\n",
        "\n",
        "# 전처리 후 출력\n",
        "clean_text[:5]"
      ]
    },
    {
      "cell_type": "code",
      "execution_count": null,
      "metadata": {
        "id": "8rQZuV5IdsSs",
        "outputId": "3016751f-7a18-4c0e-d740-26490fa219e0",
        "colab": {
          "base_uri": "https://localhost:8080/"
        }
      },
      "outputs": [
        {
          "output_type": "stream",
          "name": "stderr",
          "text": [
            "<ipython-input-14-bced95ad59a0>:4: MarkupResemblesLocatorWarning: The input looks more like a filename than markup. You may want to open this file and pass the filehandle into Beautiful Soup.\n",
            "  sentence = BeautifulSoup(sentence, \"lxml\").text # <br />, <a href = ...> 등의 html 태그 제거\n"
          ]
        },
        {
          "output_type": "execute_result",
          "data": {
            "text/plain": [
              "['upgrad learner switches to career in ml al with salary hike',\n",
              " 'delhi techie wins free food from swiggy for one year on cred',\n",
              " 'new zealand end rohit sharma led india match winning streak',\n",
              " 'aegon life iterm insurance plan helps customers save tax',\n",
              " 'have known hirani for yrs what if metoo claims are not true sonam']"
            ]
          },
          "metadata": {},
          "execution_count": 18
        }
      ],
      "source": [
        "clean_headlines = []\n",
        "\n",
        "# 전체 Summary 데이터에 대한 전처리\n",
        "for s in data['headlines']:\n",
        "    clean_headlines.append(preprocess_sentence(s, False))\n",
        "\n",
        "clean_headlines[:5]"
      ]
    },
    {
      "cell_type": "code",
      "execution_count": null,
      "metadata": {
        "id": "CunpOXhddsSs"
      },
      "outputs": [],
      "source": [
        "data['text'] = clean_text\n",
        "data['headlines'] = clean_headlines\n",
        "\n",
        "# 빈 값을 Null 값으로 변환\n",
        "data.replace('', np.nan, inplace=True)"
      ]
    },
    {
      "cell_type": "code",
      "execution_count": null,
      "metadata": {
        "id": "S6uJYTp7dsSs",
        "outputId": "64050192-206c-4048-92dd-b9af36c07925",
        "colab": {
          "base_uri": "https://localhost:8080/"
        }
      },
      "outputs": [
        {
          "output_type": "execute_result",
          "data": {
            "text/plain": [
              "headlines    0\n",
              "text         0\n",
              "dtype: int64"
            ]
          },
          "metadata": {},
          "execution_count": 20
        }
      ],
      "source": [
        "data.isnull().sum()"
      ]
    },
    {
      "cell_type": "code",
      "execution_count": null,
      "metadata": {
        "id": "mYn3_xS8dsSt",
        "outputId": "6b18e12b-d5e7-48e2-ccea-ba5cb54729a8",
        "colab": {
          "base_uri": "https://localhost:8080/"
        }
      },
      "outputs": [
        {
          "output_type": "stream",
          "name": "stdout",
          "text": [
            "전체 샘플수 : 98360\n"
          ]
        }
      ],
      "source": [
        "data.dropna(axis=0, inplace=True)\n",
        "print('전체 샘플수 :',(len(data)))#데이터 전처리 함수"
      ]
    },
    {
      "cell_type": "code",
      "execution_count": null,
      "metadata": {
        "id": "gjzQl8dvdsSt",
        "outputId": "c7301d73-f1bf-4d43-c80f-c555225b1b2b",
        "colab": {
          "base_uri": "https://localhost:8080/",
          "height": 1000
        }
      },
      "outputs": [
        {
          "output_type": "stream",
          "name": "stdout",
          "text": [
            "텍스트의 최소 길이 : 1\n",
            "텍스트의 최대 길이 : 60\n",
            "텍스트의 평균 길이 : 35.09968483123221\n",
            "요약의 최소 길이 : 1\n",
            "요약의 최대 길이 : 16\n",
            "요약의 평균 길이 : 9.299532330215534\n"
          ]
        },
        {
          "output_type": "display_data",
          "data": {
            "text/plain": [
              "<Figure size 640x480 with 2 Axes>"
            ],
            "image/png": "[encoded data removed]"
          },
          "metadata": {}
        },
        {
          "output_type": "display_data",
          "data": {
            "text/plain": [
              "<Figure size 640x480 with 1 Axes>"
            ],
            "image/png": "[encoded data removed]"
          },
          "metadata": {}
        },
        {
          "output_type": "display_data",
          "data": {
            "text/plain": [
              "<Figure size 640x480 with 1 Axes>"
            ],
            "image/png": "[encoded data removed]"
          },
          "metadata": {}
        }
      ],
      "source": [
        "# 길이 분포 출력\n",
        "\n",
        "text_len = [len(s.split()) for s in data['text']]\n",
        "headlines_len = [len(s.split()) for s in data['headlines']]\n",
        "\n",
        "print('텍스트의 최소 길이 : {}'.format(np.min(text_len)))\n",
        "print('텍스트의 최대 길이 : {}'.format(np.max(text_len)))\n",
        "print('텍스트의 평균 길이 : {}'.format(np.mean(text_len)))\n",
        "print('요약의 최소 길이 : {}'.format(np.min(headlines_len)))\n",
        "print('요약의 최대 길이 : {}'.format(np.max(headlines_len)))\n",
        "print('요약의 평균 길이 : {}'.format(np.mean(headlines_len)))\n",
        "\n",
        "plt.subplot(1,2,1)\n",
        "plt.boxplot(headlines_len)\n",
        "plt.title('headlines')\n",
        "plt.subplot(1,2,2)\n",
        "plt.boxplot(text_len)\n",
        "plt.title('Text')\n",
        "plt.tight_layout()\n",
        "plt.show()\n",
        "\n",
        "plt.title('headlines')\n",
        "plt.hist(headlines_len, bins = 40)\n",
        "plt.xlabel('length of samples')\n",
        "plt.ylabel('number of samples')\n",
        "plt.show()\n",
        "\n",
        "plt.title('Text')\n",
        "plt.hist(text_len, bins = 40)\n",
        "plt.xlabel('length of samples')\n",
        "plt.ylabel('number of samples')\n",
        "plt.show()"
      ]
    },
    {
      "cell_type": "code",
      "execution_count": null,
      "metadata": {
        "id": "MHLHBaVodsSt"
      },
      "outputs": [],
      "source": [
        "text_max_len = 50\n",
        "headlines_max_len = 8"
      ]
    },
    {
      "cell_type": "code",
      "execution_count": null,
      "metadata": {
        "id": "lWAb7YfOdsSt"
      },
      "outputs": [],
      "source": [
        "def below_threshold_len(max_len, nested_list):\n",
        "  cnt = 0\n",
        "  for s in nested_list:\n",
        "    if(len(s.split()) <= max_len):\n",
        "        cnt = cnt + 1\n",
        "  print('전체 샘플 중 길이가 %s 이하인 샘플의 비율: %s'%(max_len, (cnt / len(nested_list))))"
      ]
    },
    {
      "cell_type": "code",
      "execution_count": null,
      "metadata": {
        "id": "2_geFaxfdsSt",
        "outputId": "bba1e786-3366-404b-d25b-35259f25d487",
        "colab": {
          "base_uri": "https://localhost:8080/"
        }
      },
      "outputs": [
        {
          "output_type": "stream",
          "name": "stdout",
          "text": [
            "전체 샘플 중 길이가 50 이하인 샘플의 비율: 0.9998576657177715\n",
            "전체 샘플 중 길이가 8 이하인 샘플의 비율: 0.2755693371289142\n"
          ]
        }
      ],
      "source": [
        "below_threshold_len(text_max_len, data['text'])\n",
        "below_threshold_len(headlines_max_len,  data['headlines'])"
      ]
    },
    {
      "cell_type": "code",
      "execution_count": null,
      "metadata": {
        "id": "e3sTDREndsSt",
        "outputId": "4da48146-2572-4249-a54e-2574ea6767ec",
        "colab": {
          "base_uri": "https://localhost:8080/"
        }
      },
      "outputs": [
        {
          "output_type": "stream",
          "name": "stdout",
          "text": [
            "전체 샘플수 : 27105\n"
          ]
        }
      ],
      "source": [
        "data = data[data['text'].apply(lambda x: len(x.split()) <= text_max_len)]\n",
        "data = data[data['headlines'].apply(lambda x: len(x.split()) <= headlines_max_len)]\n",
        "print('전체 샘플수 :',(len(data)))"
      ]
    },
    {
      "cell_type": "code",
      "execution_count": null,
      "metadata": {
        "id": "YSZEEEFHdsSu",
        "outputId": "8792f147-f3a1-434e-e8dd-8d8f61bd3b40",
        "colab": {
          "base_uri": "https://localhost:8080/",
          "height": 206
        }
      },
      "outputs": [
        {
          "output_type": "execute_result",
          "data": {
            "text/plain": [
              "                                            headlines  \\\n",
              "19  odisha cm patnaik controls mining mafia union ...   \n",
              "21  isro unveils bengaluru centre for manned space...   \n",
              "22              killed injured in saudi arabia floods   \n",
              "29  seat cushions from missing plane carrying foot...   \n",
              "36  agustawestland scam accused rajiv saxena extra...   \n",
              "\n",
              "                                                 text  \\\n",
              "19  union minister dharmendra pradhan wednesday cl...   \n",
              "21  indian space research organisation wednesday u...   \n",
              "22  least people killed others injured saudi arabi...   \n",
              "29  investigators searching lost plane carrying ar...   \n",
              "36  agustawestland chopper scam co accused rajiv s...   \n",
              "\n",
              "                                        decoder_input  \\\n",
              "19  sostoken odisha cm patnaik controls mining maf...   \n",
              "21  sostoken isro unveils bengaluru centre for man...   \n",
              "22     sostoken killed injured in saudi arabia floods   \n",
              "29  sostoken seat cushions from missing plane carr...   \n",
              "36  sostoken agustawestland scam accused rajiv sax...   \n",
              "\n",
              "                                       decoder_target  \n",
              "19  odisha cm patnaik controls mining mafia union ...  \n",
              "21  isro unveils bengaluru centre for manned space...  \n",
              "22     killed injured in saudi arabia floods eostoken  \n",
              "29  seat cushions from missing plane carrying foot...  \n",
              "36  agustawestland scam accused rajiv saxena extra...  "
            ],
            "text/html": [
              "\n",
              "\n",
              "  <div id=\"df-f2137193-dbd3-4dea-8b84-f6c93ed2461f\">\n",
              "    <div class=\"colab-df-container\">\n",
              "      <div>\n",
              "<style scoped>\n",
              "    .dataframe tbody tr th:only-of-type {\n",
              "        vertical-align: middle;\n",
              "    }\n",
              "\n",
              "    .dataframe tbody tr th {\n",
              "        vertical-align: top;\n",
              "    }\n",
              "\n",
              "    .dataframe thead th {\n",
              "        text-align: right;\n",
              "    }\n",
              "</style>\n",
              "<table border=\"1\" class=\"dataframe\">\n",
              "  <thead>\n",
              "    <tr style=\"text-align: right;\">\n",
              "      <th></th>\n",
              "      <th>headlines</th>\n",
              "      <th>text</th>\n",
              "      <th>decoder_input</th>\n",
              "      <th>decoder_target</th>\n",
              "    </tr>\n",
              "  </thead>\n",
              "  <tbody>\n",
              "    <tr>\n",
              "      <th>19</th>\n",
              "      <td>odisha cm patnaik controls mining mafia union ...</td>\n",
              "      <td>union minister dharmendra pradhan wednesday cl...</td>\n",
              "      <td>sostoken odisha cm patnaik controls mining maf...</td>\n",
              "      <td>odisha cm patnaik controls mining mafia union ...</td>\n",
              "    </tr>\n",
              "    <tr>\n",
              "      <th>21</th>\n",
              "      <td>isro unveils bengaluru centre for manned space...</td>\n",
              "      <td>indian space research organisation wednesday u...</td>\n",
              "      <td>sostoken isro unveils bengaluru centre for man...</td>\n",
              "      <td>isro unveils bengaluru centre for manned space...</td>\n",
              "    </tr>\n",
              "    <tr>\n",
              "      <th>22</th>\n",
              "      <td>killed injured in saudi arabia floods</td>\n",
              "      <td>least people killed others injured saudi arabi...</td>\n",
              "      <td>sostoken killed injured in saudi arabia floods</td>\n",
              "      <td>killed injured in saudi arabia floods eostoken</td>\n",
              "    </tr>\n",
              "    <tr>\n",
              "      <th>29</th>\n",
              "      <td>seat cushions from missing plane carrying foot...</td>\n",
              "      <td>investigators searching lost plane carrying ar...</td>\n",
              "      <td>sostoken seat cushions from missing plane carr...</td>\n",
              "      <td>seat cushions from missing plane carrying foot...</td>\n",
              "    </tr>\n",
              "    <tr>\n",
              "      <th>36</th>\n",
              "      <td>agustawestland scam accused rajiv saxena extra...</td>\n",
              "      <td>agustawestland chopper scam co accused rajiv s...</td>\n",
              "      <td>sostoken agustawestland scam accused rajiv sax...</td>\n",
              "      <td>agustawestland scam accused rajiv saxena extra...</td>\n",
              "    </tr>\n",
              "  </tbody>\n",
              "</table>\n",
              "</div>\n",
              "      <button class=\"colab-df-convert\" onclick=\"convertToInteractive('df-f2137193-dbd3-4dea-8b84-f6c93ed2461f')\"\n",
              "              title=\"Convert this dataframe to an interactive table.\"\n",
              "              style=\"display:none;\">\n",
              "\n",
              "  <svg xmlns=\"http://www.w3.org/2000/svg\" height=\"24px\"viewBox=\"0 0 24 24\"\n",
              "       width=\"24px\">\n",
              "    <path d=\"M0 0h24v24H0V0z\" fill=\"none\"/>\n",
              "    <path d=\"M18.56 5.44l.94 2.06.94-2.06 2.06-.94-2.06-.94-.94-2.06-.94 2.06-2.06.94zm-11 1L8.5 8.5l.94-2.06 2.06-.94-2.06-.94L8.5 2.5l-.94 2.06-2.06.94zm10 10l.94 2.06.94-2.06 2.06-.94-2.06-.94-.94-2.06-.94 2.06-2.06.94z\"/><path d=\"M17.41 7.96l-1.37-1.37c-.4-.4-.92-.59-1.43-.59-.52 0-1.04.2-1.43.59L10.3 9.45l-7.72 7.72c-.78.78-.78 2.05 0 2.83L4 21.41c.39.39.9.59 1.41.59.51 0 1.02-.2 1.41-.59l7.78-7.78 2.81-2.81c.8-.78.8-2.07 0-2.86zM5.41 20L4 18.59l7.72-7.72 1.47 1.35L5.41 20z\"/>\n",
              "  </svg>\n",
              "      </button>\n",
              "\n",
              "\n",
              "\n",
              "    <div id=\"df-fd30d760-b4f7-4f11-816a-49f0f783df19\">\n",
              "      <button class=\"colab-df-quickchart\" onclick=\"quickchart('df-fd30d760-b4f7-4f11-816a-49f0f783df19')\"\n",
              "              title=\"Suggest charts.\"\n",
              "              style=\"display:none;\">\n",
              "\n",
              "<svg xmlns=\"http://www.w3.org/2000/svg\" height=\"24px\"viewBox=\"0 0 24 24\"\n",
              "     width=\"24px\">\n",
              "    <g>\n",
              "        <path d=\"M19 3H5c-1.1 0-2 .9-2 2v14c0 1.1.9 2 2 2h14c1.1 0 2-.9 2-2V5c0-1.1-.9-2-2-2zM9 17H7v-7h2v7zm4 0h-2V7h2v10zm4 0h-2v-4h2v4z\"/>\n",
              "    </g>\n",
              "</svg>\n",
              "      </button>\n",
              "    </div>\n",
              "\n",
              "<style>\n",
              "  .colab-df-quickchart {\n",
              "    background-color: #E8F0FE;\n",
              "    border: none;\n",
              "    border-radius: 50%;\n",
              "    cursor: pointer;\n",
              "    display: none;\n",
              "    fill: #1967D2;\n",
              "    height: 32px;\n",
              "    padding: 0 0 0 0;\n",
              "    width: 32px;\n",
              "  }\n",
              "\n",
              "  .colab-df-quickchart:hover {\n",
              "    background-color: #E2EBFA;\n",
              "    box-shadow: 0px 1px 2px rgba(60, 64, 67, 0.3), 0px 1px 3px 1px rgba(60, 64, 67, 0.15);\n",
              "    fill: #174EA6;\n",
              "  }\n",
              "\n",
              "  [theme=dark] .colab-df-quickchart {\n",
              "    background-color: #3B4455;\n",
              "    fill: #D2E3FC;\n",
              "  }\n",
              "\n",
              "  [theme=dark] .colab-df-quickchart:hover {\n",
              "    background-color: #434B5C;\n",
              "    box-shadow: 0px 1px 3px 1px rgba(0, 0, 0, 0.15);\n",
              "    filter: drop-shadow(0px 1px 2px rgba(0, 0, 0, 0.3));\n",
              "    fill: #FFFFFF;\n",
              "  }\n",
              "</style>\n",
              "\n",
              "    <script>\n",
              "      async function quickchart(key) {\n",
              "        const containerElement = document.querySelector('#' + key);\n",
              "        const charts = await google.colab.kernel.invokeFunction(\n",
              "            'suggestCharts', [key], {});\n",
              "      }\n",
              "    </script>\n",
              "\n",
              "      <script>\n",
              "\n",
              "function displayQuickchartButton(domScope) {\n",
              "  let quickchartButtonEl =\n",
              "    domScope.querySelector('#df-fd30d760-b4f7-4f11-816a-49f0f783df19 button.colab-df-quickchart');\n",
              "  quickchartButtonEl.style.display =\n",
              "    google.colab.kernel.accessAllowed ? 'block' : 'none';\n",
              "}\n",
              "\n",
              "        displayQuickchartButton(document);\n",
              "      </script>\n",
              "      <style>\n",
              "    .colab-df-container {\n",
              "      display:flex;\n",
              "      flex-wrap:wrap;\n",
              "      gap: 12px;\n",
              "    }\n",
              "\n",
              "    .colab-df-convert {\n",
              "      background-color: #E8F0FE;\n",
              "      border: none;\n",
              "      border-radius: 50%;\n",
              "      cursor: pointer;\n",
              "      display: none;\n",
              "      fill: #1967D2;\n",
              "      height: 32px;\n",
              "      padding: 0 0 0 0;\n",
              "      width: 32px;\n",
              "    }\n",
              "\n",
              "    .colab-df-convert:hover {\n",
              "      background-color: #E2EBFA;\n",
              "      box-shadow: 0px 1px 2px rgba(60, 64, 67, 0.3), 0px 1px 3px 1px rgba(60, 64, 67, 0.15);\n",
              "      fill: #174EA6;\n",
              "    }\n",
              "\n",
              "    [theme=dark] .colab-df-convert {\n",
              "      background-color: #3B4455;\n",
              "      fill: #D2E3FC;\n",
              "    }\n",
              "\n",
              "    [theme=dark] .colab-df-convert:hover {\n",
              "      background-color: #434B5C;\n",
              "      box-shadow: 0px 1px 3px 1px rgba(0, 0, 0, 0.15);\n",
              "      filter: drop-shadow(0px 1px 2px rgba(0, 0, 0, 0.3));\n",
              "      fill: #FFFFFF;\n",
              "    }\n",
              "  </style>\n",
              "\n",
              "      <script>\n",
              "        const buttonEl =\n",
              "          document.querySelector('#df-f2137193-dbd3-4dea-8b84-f6c93ed2461f button.colab-df-convert');\n",
              "        buttonEl.style.display =\n",
              "          google.colab.kernel.accessAllowed ? 'block' : 'none';\n",
              "\n",
              "        async function convertToInteractive(key) {\n",
              "          const element = document.querySelector('#df-f2137193-dbd3-4dea-8b84-f6c93ed2461f');\n",
              "          const dataTable =\n",
              "            await google.colab.kernel.invokeFunction('convertToInteractive',\n",
              "                                                     [key], {});\n",
              "          if (!dataTable) return;\n",
              "\n",
              "          const docLinkHtml = 'Like what you see? Visit the ' +\n",
              "            '<a target=\"_blank\" href=https://colab.research.google.com/notebooks/data_table.ipynb>data table notebook</a>'\n",
              "            + ' to learn more about interactive tables.';\n",
              "          element.innerHTML = '';\n",
              "          dataTable['output_type'] = 'display_data';\n",
              "          await google.colab.output.renderOutput(dataTable, element);\n",
              "          const docLink = document.createElement('div');\n",
              "          docLink.innerHTML = docLinkHtml;\n",
              "          element.appendChild(docLink);\n",
              "        }\n",
              "      </script>\n",
              "    </div>\n",
              "  </div>\n"
            ]
          },
          "metadata": {},
          "execution_count": 27
        }
      ],
      "source": [
        "#요약 데이터에는 시작 토큰과 종료 토큰을 추가\n",
        "data['decoder_input'] = data['headlines'].apply(lambda x : 'sostoken '+ x)\n",
        "data['decoder_target'] = data['headlines'].apply(lambda x : x + ' eostoken')\n",
        "data.head()"
      ]
    },
    {
      "cell_type": "code",
      "execution_count": null,
      "metadata": {
        "id": "v4HSUXl9dsSu"
      },
      "outputs": [],
      "source": [
        "encoder_input = np.array(data['text']) # 인코더의 입력\n",
        "decoder_input = np.array(data['decoder_input']) # 디코더의 입력\n",
        "decoder_target = np.array(data['decoder_target']) # 디코더의 레이블"
      ]
    },
    {
      "cell_type": "code",
      "execution_count": null,
      "metadata": {
        "id": "igQtEHi0dsSu",
        "outputId": "45d8ec8a-3fa1-4fbf-a9ce-0a3ef0ea1760",
        "colab": {
          "base_uri": "https://localhost:8080/"
        }
      },
      "outputs": [
        {
          "output_type": "stream",
          "name": "stdout",
          "text": [
            "[17838 21306  3151 ... 20729 23428  5061]\n"
          ]
        }
      ],
      "source": [
        "indices = np.arange(encoder_input.shape[0])\n",
        "np.random.shuffle(indices)\n",
        "print(indices)"
      ]
    },
    {
      "cell_type": "code",
      "execution_count": null,
      "metadata": {
        "id": "VZJF2INxdsSu"
      },
      "outputs": [],
      "source": [
        "encoder_input = encoder_input[indices]\n",
        "decoder_input = decoder_input[indices]\n",
        "decoder_target = decoder_target[indices]"
      ]
    },
    {
      "cell_type": "code",
      "execution_count": null,
      "metadata": {
        "id": "9dRXbCCodsSu",
        "outputId": "ec863293-2400-410a-9811-b7f3641199a3",
        "colab": {
          "base_uri": "https://localhost:8080/"
        }
      },
      "outputs": [
        {
          "output_type": "stream",
          "name": "stdout",
          "text": [
            "테스트 데이터의 수 : 5421\n"
          ]
        }
      ],
      "source": [
        "n_of_val = int(len(encoder_input)*0.2)\n",
        "print('테스트 데이터의 수 :',n_of_val)"
      ]
    },
    {
      "cell_type": "code",
      "execution_count": null,
      "metadata": {
        "id": "g9wps9sKdsSu",
        "outputId": "c16d6fec-7a69-4129-f541-49539654de48",
        "colab": {
          "base_uri": "https://localhost:8080/"
        }
      },
      "outputs": [
        {
          "output_type": "stream",
          "name": "stdout",
          "text": [
            "훈련 데이터의 개수 : 21684\n",
            "훈련 레이블의 개수 : 21684\n",
            "테스트 데이터의 개수 : 5421\n",
            "테스트 레이블의 개수 : 5421\n"
          ]
        }
      ],
      "source": [
        "encoder_input_train = encoder_input[:-n_of_val]\n",
        "decoder_input_train = decoder_input[:-n_of_val]\n",
        "decoder_target_train = decoder_target[:-n_of_val]\n",
        "\n",
        "encoder_input_test = encoder_input[-n_of_val:]\n",
        "decoder_input_test = decoder_input[-n_of_val:]\n",
        "decoder_target_test = decoder_target[-n_of_val:]\n",
        "\n",
        "print('훈련 데이터의 개수 :', len(encoder_input_train))\n",
        "print('훈련 레이블의 개수 :',len(decoder_input_train))\n",
        "print('테스트 데이터의 개수 :',len(encoder_input_test))\n",
        "print('테스트 레이블의 개수 :',len(decoder_input_test))"
      ]
    },
    {
      "cell_type": "code",
      "execution_count": null,
      "metadata": {
        "id": "d9W13gNodsSv"
      },
      "outputs": [],
      "source": [
        "src_tokenizer = Tokenizer() # 토크나이저 정의\n",
        "src_tokenizer.fit_on_texts(encoder_input_train) # 입력된 데이터로부터 단어 집합 생성"
      ]
    },
    {
      "cell_type": "code",
      "execution_count": null,
      "metadata": {
        "id": "nx8rgYdbdsSv",
        "outputId": "ed5ea4fd-baee-47e2-c813-07c39b43724d",
        "colab": {
          "base_uri": "https://localhost:8080/"
        }
      },
      "outputs": [
        {
          "output_type": "stream",
          "name": "stdout",
          "text": [
            "단어 집합(vocabulary)의 크기 : 42490\n",
            "등장 빈도가 6번 이하인 희귀 단어의 수: 30761\n",
            "단어 집합에서 희귀 단어를 제외시킬 경우의 단어 집합의 크기 11729\n",
            "단어 집합에서 희귀 단어의 비율: 72.39585784890562\n",
            "전체 등장 빈도에서 희귀 단어 등장 빈도 비율: 8.297034519481715\n"
          ]
        }
      ],
      "source": [
        "threshold = 7\n",
        "total_cnt = len(src_tokenizer.word_index) # 단어의 수\n",
        "rare_cnt = 0 # 등장 빈도수가 threshold보다 작은 단어의 개수를 카운트\n",
        "total_freq = 0 # 훈련 데이터의 전체 단어 빈도수 총 합\n",
        "rare_freq = 0 # 등장 빈도수가 threshold보다 작은 단어의 등장 빈도수의 총 합\n",
        "\n",
        "# 단어와 빈도수의 쌍(pair)을 key와 value로 받는다.\n",
        "for key, value in src_tokenizer.word_counts.items():\n",
        "    total_freq = total_freq + value\n",
        "\n",
        "    # 단어의 등장 빈도수가 threshold보다 작으면\n",
        "    if(value < threshold):\n",
        "        rare_cnt = rare_cnt + 1\n",
        "        rare_freq = rare_freq + value\n",
        "\n",
        "print('단어 집합(vocabulary)의 크기 :',total_cnt)\n",
        "print('등장 빈도가 %s번 이하인 희귀 단어의 수: %s'%(threshold - 1, rare_cnt))\n",
        "print('단어 집합에서 희귀 단어를 제외시킬 경우의 단어 집합의 크기 %s'%(total_cnt - rare_cnt))\n",
        "print(\"단어 집합에서 희귀 단어의 비율:\", (rare_cnt / total_cnt)*100)\n",
        "print(\"전체 등장 빈도에서 희귀 단어 등장 빈도 비율:\", (rare_freq / total_freq)*100)"
      ]
    },
    {
      "cell_type": "code",
      "execution_count": null,
      "metadata": {
        "id": "z918U6XudsSv"
      },
      "outputs": [],
      "source": [
        "src_vocab = 8000\n",
        "src_tokenizer = Tokenizer(num_words = src_vocab) # 단어 집합의 크기를 8,000으로 제한\n",
        "src_tokenizer.fit_on_texts(encoder_input_train) # 단어 집합 재생성."
      ]
    },
    {
      "cell_type": "code",
      "execution_count": null,
      "metadata": {
        "id": "zxeOGKVqdsSv",
        "outputId": "c1a14bbc-5f42-463c-881b-342907998f71",
        "colab": {
          "base_uri": "https://localhost:8080/"
        }
      },
      "outputs": [
        {
          "output_type": "stream",
          "name": "stdout",
          "text": [
            "[[1057, 1, 5420, 3525, 7425, 1997, 3073, 166, 1072, 1, 5421, 4521, 773, 1206, 2586, 3678, 158, 1850, 3131, 4522, 2872, 1072, 1, 150, 3525, 5086, 953, 2367, 3678, 5422], [5, 17, 34, 5423, 1082, 285, 97, 24, 20, 148, 124, 134, 142, 1188, 44, 301, 2, 512, 1254, 1488, 24, 34, 5423, 277, 5424, 279, 47, 7803, 4278], [1976, 872, 2340, 3132, 4779, 4780, 314, 6737, 7426, 7804, 5087, 96, 629, 4523, 145, 3, 1, 15, 860, 4647, 1219, 145, 53, 3133, 2073, 1149]]\n"
          ]
        }
      ],
      "source": [
        "# 텍스트 시퀀스를 정수 시퀀스로 변환\n",
        "encoder_input_train = src_tokenizer.texts_to_sequences(encoder_input_train)\n",
        "encoder_input_test = src_tokenizer.texts_to_sequences(encoder_input_test)\n",
        "\n",
        "#잘 진행되었는지 샘플 출력\n",
        "print(encoder_input_train[:3])"
      ]
    },
    {
      "cell_type": "code",
      "execution_count": null,
      "metadata": {
        "id": "JNTNiGXudsSv"
      },
      "outputs": [],
      "source": [
        "tar_tokenizer = Tokenizer()\n",
        "tar_tokenizer.fit_on_texts(decoder_input_train)"
      ]
    },
    {
      "cell_type": "code",
      "execution_count": null,
      "metadata": {
        "id": "BApdZpbedsSv",
        "outputId": "eba43027-35b2-4bdd-ad38-48917f7e7f15",
        "colab": {
          "base_uri": "https://localhost:8080/"
        }
      },
      "outputs": [
        {
          "output_type": "stream",
          "name": "stdout",
          "text": [
            "단어 집합(vocabulary)의 크기 : 18904\n",
            "등장 빈도가 5번 이하인 희귀 단어의 수: 14293\n",
            "단어 집합에서 희귀 단어를 제외시킬 경우의 단어 집합의 크기 4611\n",
            "단어 집합에서 희귀 단어의 비율: 75.60833685992382\n",
            "전체 등장 빈도에서 희귀 단어 등장 빈도 비율: 14.241941282847959\n"
          ]
        }
      ],
      "source": [
        "threshold = 6\n",
        "total_cnt = len(tar_tokenizer.word_index) # 단어의 수\n",
        "rare_cnt = 0 # 등장 빈도수가 threshold보다 작은 단어의 개수를 카운트\n",
        "total_freq = 0 # 훈련 데이터의 전체 단어 빈도수 총 합\n",
        "rare_freq = 0 # 등장 빈도수가 threshold보다 작은 단어의 등장 빈도수의 총 합\n",
        "\n",
        "# 단어와 빈도수의 쌍(pair)을 key와 value로 받는다.\n",
        "for key, value in tar_tokenizer.word_counts.items():\n",
        "    total_freq = total_freq + value\n",
        "\n",
        "    # 단어의 등장 빈도수가 threshold보다 작으면\n",
        "    if(value < threshold):\n",
        "        rare_cnt = rare_cnt + 1\n",
        "        rare_freq = rare_freq + value\n",
        "\n",
        "print('단어 집합(vocabulary)의 크기 :',total_cnt)\n",
        "print('등장 빈도가 %s번 이하인 희귀 단어의 수: %s'%(threshold - 1, rare_cnt))\n",
        "print('단어 집합에서 희귀 단어를 제외시킬 경우의 단어 집합의 크기 %s'%(total_cnt - rare_cnt))\n",
        "print(\"단어 집합에서 희귀 단어의 비율:\", (rare_cnt / total_cnt)*100)\n",
        "print(\"전체 등장 빈도에서 희귀 단어 등장 빈도 비율:\", (rare_freq / total_freq)*100)"
      ]
    },
    {
      "cell_type": "code",
      "execution_count": null,
      "metadata": {
        "id": "zZmZ-Hi3dsSz",
        "outputId": "ffc9a87d-f72a-4510-d66d-a0b2cba8e73b",
        "colab": {
          "base_uri": "https://localhost:8080/"
        }
      },
      "outputs": [
        {
          "output_type": "stream",
          "name": "stdout",
          "text": [
            "input\n",
            "input  [[1, 9, 66, 416], [1, 318, 388, 233, 19, 76, 48, 671], [1, 1537, 975, 105, 76, 148], [1, 287, 272, 10, 39, 8], [1, 150, 6, 1011, 1254, 105, 58]]\n",
            "target\n",
            "decoder  [[9, 66, 416, 2], [318, 388, 233, 19, 76, 48, 671, 2], [1537, 975, 105, 76, 148, 2], [287, 272, 10, 39, 8, 2], [150, 6, 1011, 1254, 105, 58, 2]]\n"
          ]
        }
      ],
      "source": [
        "tar_vocab = 2000\n",
        "tar_tokenizer = Tokenizer(num_words = tar_vocab)\n",
        "tar_tokenizer.fit_on_texts(decoder_input_train)\n",
        "tar_tokenizer.fit_on_texts(decoder_target_train)\n",
        "\n",
        "# 텍스트 시퀀스를 정수 시퀀스로 변환\n",
        "decoder_input_train = tar_tokenizer.texts_to_sequences(decoder_input_train)\n",
        "decoder_target_train = tar_tokenizer.texts_to_sequences(decoder_target_train)\n",
        "decoder_input_test = tar_tokenizer.texts_to_sequences(decoder_input_test)\n",
        "decoder_target_test = tar_tokenizer.texts_to_sequences(decoder_target_test)\n",
        "\n",
        "#잘 변환되었는지 확인\n",
        "print('input')\n",
        "print('input ',decoder_input_train[:5])\n",
        "print('target')\n",
        "print('decoder ',decoder_target_train[:5])"
      ]
    },
    {
      "cell_type": "code",
      "execution_count": null,
      "metadata": {
        "id": "FTnsKSxudsSz",
        "outputId": "b80b816e-e3c4-4ece-8bf9-0d18727023db",
        "colab": {
          "base_uri": "https://localhost:8080/"
        }
      },
      "outputs": [
        {
          "output_type": "stream",
          "name": "stdout",
          "text": [
            "삭제할 훈련 데이터의 개수 : 10\n",
            "삭제할 테스트 데이터의 개수 : 4\n",
            "훈련 데이터의 개수 : 21674\n",
            "훈련 레이블의 개수 : 21674\n",
            "테스트 데이터의 개수 : 5417\n",
            "테스트 레이블의 개수 : 5417\n"
          ]
        }
      ],
      "source": [
        "drop_train = [index for index, sentence in enumerate(decoder_input_train) if len(sentence) == 1]\n",
        "drop_test = [index for index, sentence in enumerate(decoder_input_test) if len(sentence) == 1]\n",
        "\n",
        "print('삭제할 훈련 데이터의 개수 :',len(drop_train))\n",
        "print('삭제할 테스트 데이터의 개수 :',len(drop_test))\n",
        "\n",
        "encoder_input_train = np.delete(encoder_input_train, drop_train, axis=0)\n",
        "decoder_input_train = np.delete(decoder_input_train, drop_train, axis=0)\n",
        "decoder_target_train = np.delete(decoder_target_train, drop_train, axis=0)\n",
        "\n",
        "encoder_input_test = np.delete(encoder_input_test, drop_test, axis=0)\n",
        "decoder_input_test = np.delete(decoder_input_test, drop_test, axis=0)\n",
        "decoder_target_test = np.delete(decoder_target_test, drop_test, axis=0)\n",
        "\n",
        "print('훈련 데이터의 개수 :', len(encoder_input_train))\n",
        "print('훈련 레이블의 개수 :',len(decoder_input_train))\n",
        "print('테스트 데이터의 개수 :',len(encoder_input_test))\n",
        "print('테스트 레이블의 개수 :',len(decoder_input_test))"
      ]
    },
    {
      "cell_type": "code",
      "execution_count": null,
      "metadata": {
        "id": "6PIAzFzsdsS0"
      },
      "outputs": [],
      "source": [
        "encoder_input_train = pad_sequences(encoder_input_train, maxlen = text_max_len, padding='post')\n",
        "encoder_input_test = pad_sequences(encoder_input_test, maxlen = text_max_len, padding='post')\n",
        "decoder_input_train = pad_sequences(decoder_input_train, maxlen = headlines_max_len, padding='post')\n",
        "decoder_target_train = pad_sequences(decoder_target_train, maxlen = headlines_max_len, padding='post')\n",
        "decoder_input_test = pad_sequences(decoder_input_test, maxlen = headlines_max_len, padding='post')\n",
        "decoder_target_test = pad_sequences(decoder_target_test, maxlen = headlines_max_len, padding='post')"
      ]
    },
    {
      "cell_type": "markdown",
      "metadata": {
        "id": "7Cot6FoydsS0"
      },
      "source": [
        "## Model"
      ]
    },
    {
      "cell_type": "markdown",
      "metadata": {
        "id": "jhqOziVzdsS0"
      },
      "source": [
        "### Encoder"
      ]
    },
    {
      "cell_type": "code",
      "execution_count": null,
      "metadata": {
        "id": "1OT6DiVsdsS0",
        "outputId": "97f3b74c-b229-4532-d5d9-af9504d9fb7b",
        "colab": {
          "base_uri": "https://localhost:8080/"
        }
      },
      "outputs": [
        {
          "output_type": "stream",
          "name": "stderr",
          "text": [
            "WARNING:tensorflow:Layer lstm will not use cuDNN kernels since it doesn't meet the criteria. It will use a generic GPU kernel as fallback when running on GPU.\n",
            "WARNING:tensorflow:Layer lstm_1 will not use cuDNN kernels since it doesn't meet the criteria. It will use a generic GPU kernel as fallback when running on GPU.\n",
            "WARNING:tensorflow:Layer lstm_2 will not use cuDNN kernels since it doesn't meet the criteria. It will use a generic GPU kernel as fallback when running on GPU.\n"
          ]
        }
      ],
      "source": [
        "# 인코더 설계 시작\n",
        "embedding_dim = 128\n",
        "hidden_size = 256\n",
        "\n",
        "# 인코더\n",
        "encoder_inputs = Input(shape=(text_max_len,))\n",
        "\n",
        "# 인코더의 임베딩 층\n",
        "enc_emb = Embedding(src_vocab, embedding_dim)(encoder_inputs)\n",
        "\n",
        "# 인코더의 LSTM 1\n",
        "encoder_lstm1 = LSTM(hidden_size, return_sequences=True, return_state=True ,dropout = 0.4, recurrent_dropout = 0.4)\n",
        "encoder_output1, state_h1, state_c1 = encoder_lstm1(enc_emb)\n",
        "\n",
        "# 인코더의 LSTM 2\n",
        "encoder_lstm2 = LSTM(hidden_size, return_sequences=True, return_state=True, dropout=0.4, recurrent_dropout=0.4)\n",
        "encoder_output2, state_h2, state_c2 = encoder_lstm2(encoder_output1)\n",
        "\n",
        "# 인코더의 LSTM 3\n",
        "encoder_lstm3 = LSTM(hidden_size, return_state=True, return_sequences=True, dropout=0.4, recurrent_dropout=0.4)\n",
        "encoder_outputs, state_h, state_c= encoder_lstm3(encoder_output2)"
      ]
    },
    {
      "cell_type": "markdown",
      "metadata": {
        "id": "1ozWyUofdsS0"
      },
      "source": [
        "### Decoder"
      ]
    },
    {
      "cell_type": "code",
      "execution_count": null,
      "metadata": {
        "id": "VOwZliOedsS0",
        "outputId": "fb794995-0b59-425d-82a3-6229cf90854c",
        "colab": {
          "base_uri": "https://localhost:8080/"
        }
      },
      "outputs": [
        {
          "output_type": "stream",
          "name": "stderr",
          "text": [
            "WARNING:tensorflow:Layer lstm_3 will not use cuDNN kernels since it doesn't meet the criteria. It will use a generic GPU kernel as fallback when running on GPU.\n"
          ]
        },
        {
          "output_type": "stream",
          "name": "stdout",
          "text": [
            "Model: \"model\"\n",
            "__________________________________________________________________________________________________\n",
            " Layer (type)                   Output Shape         Param #     Connected to                     \n",
            "==================================================================================================\n",
            " input_2 (InputLayer)           [(None, 50)]         0           []                               \n",
            "                                                                                                  \n",
            " embedding_1 (Embedding)        (None, 50, 128)      1024000     ['input_2[0][0]']                \n",
            "                                                                                                  \n",
            " lstm (LSTM)                    [(None, 50, 256),    394240      ['embedding_1[0][0]']            \n",
            "                                 (None, 256),                                                     \n",
            "                                 (None, 256)]                                                     \n",
            "                                                                                                  \n",
            " input_3 (InputLayer)           [(None, None)]       0           []                               \n",
            "                                                                                                  \n",
            " lstm_1 (LSTM)                  [(None, 50, 256),    525312      ['lstm[0][0]']                   \n",
            "                                 (None, 256),                                                     \n",
            "                                 (None, 256)]                                                     \n",
            "                                                                                                  \n",
            " embedding_2 (Embedding)        (None, None, 128)    256000      ['input_3[0][0]']                \n",
            "                                                                                                  \n",
            " lstm_2 (LSTM)                  [(None, 50, 256),    525312      ['lstm_1[0][0]']                 \n",
            "                                 (None, 256),                                                     \n",
            "                                 (None, 256)]                                                     \n",
            "                                                                                                  \n",
            " lstm_3 (LSTM)                  [(None, None, 256),  394240      ['embedding_2[0][0]',            \n",
            "                                 (None, 256),                     'lstm_2[0][1]',                 \n",
            "                                 (None, 256)]                     'lstm_2[0][2]']                 \n",
            "                                                                                                  \n",
            " dense (Dense)                  (None, None, 2000)   514000      ['lstm_3[0][0]']                 \n",
            "                                                                                                  \n",
            "==================================================================================================\n",
            "Total params: 3,633,104\n",
            "Trainable params: 3,633,104\n",
            "Non-trainable params: 0\n",
            "__________________________________________________________________________________________________\n"
          ]
        }
      ],
      "source": [
        "# 디코더 설계\n",
        "decoder_inputs = Input(shape=(None,))\n",
        "\n",
        "# 디코더의 임베딩 층\n",
        "dec_emb_layer = Embedding(tar_vocab, embedding_dim)\n",
        "dec_emb = dec_emb_layer(decoder_inputs)\n",
        "\n",
        "# 디코더의 LSTM\n",
        "decoder_lstm = LSTM(hidden_size, return_sequences = True, return_state = True, dropout = 0.4, recurrent_dropout=0.2)\n",
        "decoder_outputs, _, _ = decoder_lstm(dec_emb, initial_state = [state_h, state_c])\n",
        "\n",
        "# 디코더의 출력층\n",
        "decoder_softmax_layer = Dense(tar_vocab, activation = 'softmax')\n",
        "decoder_softmax_outputs = decoder_softmax_layer(decoder_outputs)\n",
        "\n",
        "# 모델 정의\n",
        "model = Model([encoder_inputs, decoder_inputs], decoder_softmax_outputs)\n",
        "model.summary()"
      ]
    },
    {
      "cell_type": "markdown",
      "metadata": {
        "id": "ZfIlpc6JdsS1"
      },
      "source": [
        "### Attention"
      ]
    },
    {
      "cell_type": "code",
      "execution_count": null,
      "metadata": {
        "id": "eAcCfSP1dsS1"
      },
      "outputs": [],
      "source": [
        "urllib.request.urlretrieve(\"https://raw.githubusercontent.com/thushv89/attention_keras/master/src/layers/attention.py\", filename=\"attention.py\")\n",
        "from attention import AttentionLayer"
      ]
    },
    {
      "cell_type": "code",
      "execution_count": null,
      "metadata": {
        "id": "OPCl2PeAdsS1",
        "outputId": "c8cb9542-ec1e-4590-e756-40b5945c6d37",
        "colab": {
          "base_uri": "https://localhost:8080/"
        }
      },
      "outputs": [
        {
          "output_type": "stream",
          "name": "stdout",
          "text": [
            "Model: \"model_1\"\n",
            "__________________________________________________________________________________________________\n",
            " Layer (type)                   Output Shape         Param #     Connected to                     \n",
            "==================================================================================================\n",
            " input_2 (InputLayer)           [(None, 50)]         0           []                               \n",
            "                                                                                                  \n",
            " embedding_1 (Embedding)        (None, 50, 128)      1024000     ['input_2[0][0]']                \n",
            "                                                                                                  \n",
            " lstm (LSTM)                    [(None, 50, 256),    394240      ['embedding_1[0][0]']            \n",
            "                                 (None, 256),                                                     \n",
            "                                 (None, 256)]                                                     \n",
            "                                                                                                  \n",
            " input_3 (InputLayer)           [(None, None)]       0           []                               \n",
            "                                                                                                  \n",
            " lstm_1 (LSTM)                  [(None, 50, 256),    525312      ['lstm[0][0]']                   \n",
            "                                 (None, 256),                                                     \n",
            "                                 (None, 256)]                                                     \n",
            "                                                                                                  \n",
            " embedding_2 (Embedding)        (None, None, 128)    256000      ['input_3[0][0]']                \n",
            "                                                                                                  \n",
            " lstm_2 (LSTM)                  [(None, 50, 256),    525312      ['lstm_1[0][0]']                 \n",
            "                                 (None, 256),                                                     \n",
            "                                 (None, 256)]                                                     \n",
            "                                                                                                  \n",
            " lstm_3 (LSTM)                  [(None, None, 256),  394240      ['embedding_2[0][0]',            \n",
            "                                 (None, 256),                     'lstm_2[0][1]',                 \n",
            "                                 (None, 256)]                     'lstm_2[0][2]']                 \n",
            "                                                                                                  \n",
            " attention_layer (AttentionLaye  ((None, None, 256),  131328     ['lstm_2[0][0]',                 \n",
            " r)                              (None, None, 50))                'lstm_3[0][0]']                 \n",
            "                                                                                                  \n",
            " concat_layer (Concatenate)     (None, None, 512)    0           ['lstm_3[0][0]',                 \n",
            "                                                                  'attention_layer[0][0]']        \n",
            "                                                                                                  \n",
            " dense_1 (Dense)                (None, None, 2000)   1026000     ['concat_layer[0][0]']           \n",
            "                                                                                                  \n",
            "==================================================================================================\n",
            "Total params: 4,276,432\n",
            "Trainable params: 4,276,432\n",
            "Non-trainable params: 0\n",
            "__________________________________________________________________________________________________\n"
          ]
        }
      ],
      "source": [
        "# 어텐션 층(어텐션 함수)\n",
        "attn_layer = AttentionLayer(name='attention_layer')\n",
        "# 인코더와 디코더의 모든 time step의 hidden state를 어텐션 층에 전달하고 결과를 리턴\n",
        "attn_out, attn_states = attn_layer([encoder_outputs, decoder_outputs])\n",
        "\n",
        "# 어텐션의 결과와 디코더의 hidden state들을 연결\n",
        "decoder_concat_input = Concatenate(axis = -1, name='concat_layer')([decoder_outputs, attn_out])\n",
        "\n",
        "# 디코더의 출력층\n",
        "decoder_softmax_layer = Dense(tar_vocab, activation='softmax')\n",
        "decoder_softmax_outputs = decoder_softmax_layer(decoder_concat_input)\n",
        "\n",
        "# 모델 정의\n",
        "model = Model([encoder_inputs, decoder_inputs], decoder_softmax_outputs)\n",
        "model.summary()"
      ]
    },
    {
      "cell_type": "markdown",
      "metadata": {
        "id": "A0ULZPWKdsS1"
      },
      "source": [
        "### Train"
      ]
    },
    {
      "cell_type": "code",
      "execution_count": null,
      "metadata": {
        "id": "r5G1XCTtdsS1",
        "outputId": "7599493b-69c8-45ba-fde4-977cce73d863",
        "colab": {
          "base_uri": "https://localhost:8080/"
        }
      },
      "outputs": [
        {
          "output_type": "stream",
          "name": "stdout",
          "text": [
            "Epoch 1/50\n",
            "85/85 [==============================] - 124s 1s/step - loss: 5.1645 - val_loss: 4.7746\n",
            "Epoch 2/50\n",
            "85/85 [==============================] - 90s 1s/step - loss: 4.6759 - val_loss: 4.5607\n",
            "Epoch 3/50\n",
            "85/85 [==============================] - 80s 947ms/step - loss: 4.5862 - val_loss: 4.5201\n",
            "Epoch 4/50\n",
            "85/85 [==============================] - 86s 1s/step - loss: 4.5624 - val_loss: 4.5048\n",
            "Epoch 5/50\n",
            "85/85 [==============================] - 77s 908ms/step - loss: 4.5377 - val_loss: 4.4850\n",
            "Epoch 6/50\n",
            "85/85 [==============================] - 78s 908ms/step - loss: 4.5037 - val_loss: 4.4332\n",
            "Epoch 7/50\n",
            "85/85 [==============================] - 87s 1s/step - loss: 4.4371 - val_loss: 4.3853\n",
            "Epoch 8/50\n",
            "85/85 [==============================] - 74s 873ms/step - loss: 4.3624 - val_loss: 4.2968\n",
            "Epoch 9/50\n",
            "85/85 [==============================] - 78s 911ms/step - loss: 4.3030 - val_loss: 4.2559\n",
            "Epoch 10/50\n",
            "85/85 [==============================] - 87s 1s/step - loss: 4.2576 - val_loss: 4.2124\n",
            "Epoch 11/50\n",
            "85/85 [==============================] - 78s 917ms/step - loss: 4.2157 - val_loss: 4.2206\n",
            "Epoch 12/50\n",
            "85/85 [==============================] - 79s 929ms/step - loss: 4.1853 - val_loss: 4.1889\n",
            "Epoch 13/50\n",
            "85/85 [==============================] - 81s 953ms/step - loss: 4.1561 - val_loss: 4.1543\n",
            "Epoch 14/50\n",
            "85/85 [==============================] - 77s 905ms/step - loss: 4.1293 - val_loss: 4.1369\n",
            "Epoch 15/50\n",
            "85/85 [==============================] - 82s 957ms/step - loss: 4.1028 - val_loss: 4.1181\n",
            "Epoch 16/50\n",
            "85/85 [==============================] - 77s 906ms/step - loss: 4.0771 - val_loss: 4.0978\n",
            "Epoch 17/50\n",
            "85/85 [==============================] - 89s 1s/step - loss: 4.0483 - val_loss: 4.0702\n",
            "Epoch 18/50\n",
            "85/85 [==============================] - 78s 917ms/step - loss: 4.0115 - val_loss: 4.0508\n",
            "Epoch 19/50\n",
            "85/85 [==============================] - 79s 936ms/step - loss: 3.9711 - val_loss: 4.0375\n",
            "Epoch 20/50\n",
            "85/85 [==============================] - 81s 958ms/step - loss: 3.9323 - val_loss: 3.9939\n",
            "Epoch 21/50\n",
            "85/85 [==============================] - 73s 865ms/step - loss: 3.8929 - val_loss: 3.9580\n",
            "Epoch 22/50\n",
            "85/85 [==============================] - 64s 759ms/step - loss: 3.8548 - val_loss: 3.9363\n",
            "Epoch 23/50\n",
            "85/85 [==============================] - 66s 774ms/step - loss: 3.8144 - val_loss: 3.9203\n",
            "Epoch 24/50\n",
            "85/85 [==============================] - 66s 765ms/step - loss: 3.7755 - val_loss: 3.8737\n",
            "Epoch 25/50\n",
            "85/85 [==============================] - 65s 767ms/step - loss: 3.7319 - val_loss: 3.8440\n",
            "Epoch 26/50\n",
            "85/85 [==============================] - 65s 764ms/step - loss: 3.6943 - val_loss: 3.8403\n",
            "Epoch 27/50\n",
            "85/85 [==============================] - 67s 784ms/step - loss: 3.6583 - val_loss: 3.8023\n",
            "Epoch 28/50\n",
            "85/85 [==============================] - 64s 753ms/step - loss: 3.6226 - val_loss: 3.7981\n",
            "Epoch 29/50\n",
            "85/85 [==============================] - 64s 755ms/step - loss: 3.5890 - val_loss: 3.7795\n",
            "Epoch 30/50\n",
            "85/85 [==============================] - 67s 785ms/step - loss: 3.5543 - val_loss: 3.7502\n",
            "Epoch 31/50\n",
            "85/85 [==============================] - 65s 771ms/step - loss: 3.5186 - val_loss: 3.7426\n",
            "Epoch 32/50\n",
            "85/85 [==============================] - 65s 763ms/step - loss: 3.4831 - val_loss: 3.7049\n",
            "Epoch 33/50\n",
            "85/85 [==============================] - 64s 759ms/step - loss: 3.4437 - val_loss: 3.6802\n",
            "Epoch 34/50\n",
            "85/85 [==============================] - 66s 783ms/step - loss: 3.4044 - val_loss: 3.6697\n",
            "Epoch 35/50\n",
            "85/85 [==============================] - 66s 770ms/step - loss: 3.3681 - val_loss: 3.6419\n",
            "Epoch 36/50\n",
            "85/85 [==============================] - 64s 753ms/step - loss: 3.3317 - val_loss: 3.6299\n",
            "Epoch 37/50\n",
            "85/85 [==============================] - 64s 749ms/step - loss: 3.2972 - val_loss: 3.6177\n",
            "Epoch 38/50\n",
            "85/85 [==============================] - 66s 784ms/step - loss: 3.2620 - val_loss: 3.6034\n",
            "Epoch 39/50\n",
            "85/85 [==============================] - 66s 769ms/step - loss: 3.2281 - val_loss: 3.5793\n",
            "Epoch 40/50\n",
            "85/85 [==============================] - 65s 770ms/step - loss: 3.1930 - val_loss: 3.5686\n",
            "Epoch 41/50\n",
            "85/85 [==============================] - 64s 759ms/step - loss: 3.1598 - val_loss: 3.5646\n",
            "Epoch 42/50\n",
            "85/85 [==============================] - 67s 794ms/step - loss: 3.1279 - val_loss: 3.5531\n",
            "Epoch 43/50\n",
            "85/85 [==============================] - 64s 755ms/step - loss: 3.0948 - val_loss: 3.5507\n",
            "Epoch 44/50\n",
            "85/85 [==============================] - 64s 758ms/step - loss: 3.0630 - val_loss: 3.5221\n",
            "Epoch 45/50\n",
            "85/85 [==============================] - 65s 763ms/step - loss: 3.0322 - val_loss: 3.5232\n",
            "Epoch 46/50\n",
            "85/85 [==============================] - 67s 778ms/step - loss: 3.0003 - val_loss: 3.5103\n",
            "Epoch 47/50\n",
            "85/85 [==============================] - 64s 753ms/step - loss: 2.9710 - val_loss: 3.5026\n",
            "Epoch 48/50\n",
            "85/85 [==============================] - 64s 757ms/step - loss: 2.9420 - val_loss: 3.4989\n",
            "Epoch 49/50\n",
            "85/85 [==============================] - 65s 763ms/step - loss: 2.9119 - val_loss: 3.5027\n",
            "Epoch 50/50\n",
            "85/85 [==============================] - 66s 772ms/step - loss: 2.8838 - val_loss: 3.4853\n"
          ]
        }
      ],
      "source": [
        "model.compile(optimizer='rmsprop', loss='sparse_categorical_crossentropy')\n",
        "es = EarlyStopping(monitor='val_loss', mode='min', verbose=1, patience = 2)\n",
        "history = model.fit(x = [encoder_input_train, decoder_input_train], y = decoder_target_train, \\\n",
        "          validation_data = ([encoder_input_test, decoder_input_test], decoder_target_test),\n",
        "          batch_size = 256, callbacks=[es], epochs = 50)"
      ]
    },
    {
      "cell_type": "code",
      "execution_count": null,
      "metadata": {
        "id": "INwRtUzHdsS1",
        "outputId": "84428388-0e42-4524-a914-cc47b055dab2",
        "colab": {
          "base_uri": "https://localhost:8080/",
          "height": 430
        }
      },
      "outputs": [
        {
          "output_type": "display_data",
          "data": {
            "text/plain": [
              "<Figure size 640x480 with 1 Axes>"
            ],
            "image/png": "[encoded data removed]"
          },
          "metadata": {}
        }
      ],
      "source": [
        "plt.plot(history.history['loss'], label='train')\n",
        "plt.plot(history.history['val_loss'], label='test')\n",
        "plt.legend()\n",
        "plt.show()"
      ]
    },
    {
      "cell_type": "markdown",
      "metadata": {
        "id": "vwwZQLgmdsS1"
      },
      "source": [
        "### Inference model"
      ]
    },
    {
      "cell_type": "code",
      "execution_count": null,
      "metadata": {
        "id": "JusAAxwpdsS2"
      },
      "outputs": [],
      "source": [
        "src_index_to_word = src_tokenizer.index_word # 원문 단어 집합에서 정수 -> 단어를 얻음\n",
        "tar_word_to_index = tar_tokenizer.word_index # 요약 단어 집합에서 단어 -> 정수를 얻음\n",
        "tar_index_to_word = tar_tokenizer.index_word # 요약 단어 집합에서 정수 -> 단어를 얻음"
      ]
    },
    {
      "cell_type": "code",
      "execution_count": null,
      "metadata": {
        "id": "HSyJ96hbdsS2"
      },
      "outputs": [],
      "source": [
        "# 인코더 설계\n",
        "encoder_model = Model(inputs=encoder_inputs, outputs=[encoder_outputs, state_h, state_c])\n",
        "\n",
        "# 이전 시점의 상태들을 저장하는 텐서\n",
        "decoder_state_input_h = Input(shape=(hidden_size,))\n",
        "decoder_state_input_c = Input(shape=(hidden_size,))\n",
        "\n",
        "dec_emb2 = dec_emb_layer(decoder_inputs)\n",
        "# 문장의 다음 단어를 예측하기 위해서 초기 상태(initial_state)를 이전 시점의 상태로 사용. 이는 뒤의 함수 decode_sequence()에 구현\n",
        "# 훈련 과정에서와 달리 LSTM의 리턴하는 은닉 상태와 셀 상태인 state_h와 state_c를 버리지 않음.\n",
        "decoder_outputs2, state_h2, state_c2 = decoder_lstm(dec_emb2, initial_state=[decoder_state_input_h, decoder_state_input_c])"
      ]
    },
    {
      "cell_type": "code",
      "execution_count": null,
      "metadata": {
        "id": "FCd5FvXIdsS2"
      },
      "outputs": [],
      "source": [
        "# 인코더 설계\n",
        "encoder_model = Model(inputs=encoder_inputs, outputs=[encoder_outputs, state_h, state_c])\n",
        "\n",
        "# 이전 시점의 상태들을 저장하는 텐서\n",
        "decoder_state_input_h = Input(shape=(hidden_size,))\n",
        "decoder_state_input_c = Input(shape=(hidden_size,))\n",
        "\n",
        "dec_emb2 = dec_emb_layer(decoder_inputs)\n",
        "# 문장의 다음 단어를 예측하기 위해서 초기 상태(initial_state)를 이전 시점의 상태로 사용. 이는 뒤의 함수 decode_sequence()에 구현\n",
        "# 훈련 과정에서와 달리 LSTM의 리턴하는 은닉 상태와 셀 상태인 state_h와 state_c를 버리지 않음.\n",
        "decoder_outputs2, state_h2, state_c2 = decoder_lstm(dec_emb2, initial_state=[decoder_state_input_h, decoder_state_input_c])"
      ]
    },
    {
      "cell_type": "code",
      "execution_count": null,
      "metadata": {
        "id": "t-d5SP1bdsS2"
      },
      "outputs": [],
      "source": [
        "# 어텐션 함수\n",
        "decoder_hidden_state_input = Input(shape=(text_max_len, hidden_size))\n",
        "attn_out_inf, attn_states_inf = attn_layer([decoder_hidden_state_input, decoder_outputs2])\n",
        "decoder_inf_concat = Concatenate(axis=-1, name='concat')([decoder_outputs2, attn_out_inf])\n",
        "\n",
        "# 디코더의 출력층\n",
        "decoder_outputs2 = decoder_softmax_layer(decoder_inf_concat)\n",
        "\n",
        "# 최종 디코더 모델\n",
        "decoder_model = Model(\n",
        "    [decoder_inputs] + [decoder_hidden_state_input,decoder_state_input_h, decoder_state_input_c],\n",
        "    [decoder_outputs2] + [state_h2, state_c2])"
      ]
    },
    {
      "cell_type": "code",
      "execution_count": null,
      "metadata": {
        "id": "nhWRHZuhdsS2"
      },
      "outputs": [],
      "source": [
        "def decode_sequence(input_seq):\n",
        "    # 입력으로부터 인코더의 상태를 얻음\n",
        "    e_out, e_h, e_c = encoder_model.predict(input_seq)\n",
        "\n",
        "     # <SOS>에 해당하는 토큰 생성\n",
        "    target_seq = np.zeros((1,1))\n",
        "    target_seq[0, 0] = tar_word_to_index['sostoken']\n",
        "\n",
        "    stop_condition = False\n",
        "    decoded_sentence = ''\n",
        "    while not stop_condition: # stop_condition이 True가 될 때까지 루프 반복\n",
        "\n",
        "        output_tokens, h, c = decoder_model.predict([target_seq] + [e_out, e_h, e_c])\n",
        "        sampled_token_index = np.argmax(output_tokens[0, -1, :])\n",
        "        sampled_token = tar_index_to_word[sampled_token_index]\n",
        "\n",
        "        if(sampled_token!='eostoken'):\n",
        "            decoded_sentence += ' '+sampled_token\n",
        "\n",
        "        #  <eos>에 도달하거나 최대 길이를 넘으면 중단.\n",
        "        if (sampled_token == 'eostoken'  or len(decoded_sentence.split()) >= (headlines_max_len-1)):\n",
        "            stop_condition = True\n",
        "\n",
        "        # 길이가 1인 타겟 시퀀스를 업데이트\n",
        "        target_seq = np.zeros((1,1))\n",
        "        target_seq[0, 0] = sampled_token_index\n",
        "\n",
        "        # 상태를 업데이트 합니다.\n",
        "        e_h, e_c = h, c\n",
        "\n",
        "    return decoded_sentence"
      ]
    },
    {
      "cell_type": "markdown",
      "metadata": {
        "id": "SjJhI6eEdsS2"
      },
      "source": [
        "### Test"
      ]
    },
    {
      "cell_type": "code",
      "execution_count": null,
      "metadata": {
        "id": "xWRZQoymdsS2"
      },
      "outputs": [],
      "source": [
        "# 원문의 정수 시퀀스를 텍스트 시퀀스로 변환\n",
        "def seq2text(input_seq):\n",
        "    temp=''\n",
        "    for i in input_seq:\n",
        "        if(i!=0):\n",
        "            temp = temp + src_index_to_word[i]+' '\n",
        "    return temp\n",
        "\n",
        "# 요약문의 정수 시퀀스를 텍스트 시퀀스로 변환\n",
        "def seq2summary(input_seq):\n",
        "    temp=''\n",
        "    for i in input_seq:\n",
        "        if((i!=0 and i!=tar_word_to_index['sostoken']) and i!=tar_word_to_index['eostoken']):\n",
        "            temp = temp + tar_index_to_word[i] + ' '\n",
        "    return temp"
      ]
    },
    {
      "cell_type": "code",
      "execution_count": null,
      "metadata": {
        "id": "fITnkRk0dsS2",
        "outputId": "5ee48b57-3d78-4064-a97c-003dac997107",
        "colab": {
          "base_uri": "https://localhost:8080/"
        }
      },
      "outputs": [
        {
          "output_type": "stream",
          "name": "stdout",
          "text": [
            "원문 : trains cancelled saturday several commuters protested cancellation andheri local rail station near mumbai claiming informed western railway issued new october commuters demanded weekend services coach local restored \n",
            "실제 요약 : protest against of train near mumbai \n",
            "1/1 [==============================] - 1s 945ms/step\n",
            "1/1 [==============================] - 0s 451ms/step\n",
            "1/1 [==============================] - 0s 30ms/step\n",
            "1/1 [==============================] - 0s 21ms/step\n",
            "1/1 [==============================] - 0s 20ms/step\n",
            "1/1 [==============================] - 0s 20ms/step\n",
            "1/1 [==============================] - 0s 20ms/step\n",
            "예측 요약 :  mumbai metro station to get\n",
            "\n",
            "\n",
            "원문 : opposition parties submitted impeachment motion chief justice dipak misra congress demanded administrative judicial duties accusing misusing power master congress said mishra submit inquiry notably misra part hearing five important cases coming week \n",
            "실제 요약 : should himself over motion congress \n",
            "1/1 [==============================] - 0s 66ms/step\n",
            "1/1 [==============================] - 0s 21ms/step\n",
            "1/1 [==============================] - 0s 23ms/step\n",
            "1/1 [==============================] - 0s 21ms/step\n",
            "1/1 [==============================] - 0s 21ms/step\n",
            "1/1 [==============================] - 0s 22ms/step\n",
            "예측 요약 :  congress mlas to join\n",
            "\n",
            "\n",
            "원문 : accusing us president donald trump former presidential candidate hillary clinton said trump statements new york terror attack aim set americans calling extreme foreign nationals trump attacker entered us green card lottery programme \n",
            "실제 요약 : trump set against each other hillary \n",
            "1/1 [==============================] - 0s 56ms/step\n",
            "1/1 [==============================] - 0s 21ms/step\n",
            "1/1 [==============================] - 0s 21ms/step\n",
            "1/1 [==============================] - 0s 35ms/step\n",
            "1/1 [==============================] - 0s 23ms/step\n",
            "1/1 [==============================] - 0s 22ms/step\n",
            "1/1 [==============================] - 0s 20ms/step\n",
            "예측 요약 :  trump calls trump against trump\n",
            "\n",
            "\n",
            "원문 : filmmaker vishal bhardwaj said irrfan khan undergoing treatment recovering adding days sending voice note recording songs voice watching cricket added vishal hope comes back soon starts working films vishal said \n",
            "실제 요약 : me song \n",
            "1/1 [==============================] - 0s 53ms/step\n",
            "1/1 [==============================] - 0s 37ms/step\n",
            "1/1 [==============================] - 0s 39ms/step\n",
            "1/1 [==============================] - 0s 36ms/step\n",
            "1/1 [==============================] - 0s 33ms/step\n",
            "예측 요약 :  shami to be\n",
            "\n",
            "\n",
            "원문 : responding reports salman khan featuring sequel film partner said finalised sequel never wait decade partner sequel love franchise little much sequel directed khan \n",
            "실제 요약 : have not been for partner \n",
            "1/1 [==============================] - 0s 84ms/step\n",
            "1/1 [==============================] - 0s 34ms/step\n",
            "1/1 [==============================] - 0s 48ms/step\n",
            "1/1 [==============================] - 0s 32ms/step\n",
            "1/1 [==============================] - 0s 34ms/step\n",
            "1/1 [==============================] - 0s 35ms/step\n",
            "1/1 [==============================] - 0s 36ms/step\n",
            "예측 요약 :  salman to release in film\n",
            "\n",
            "\n",
            "원문 : official poster akshay kumar starrer gold film india first olympic medal free nation shared film producer farhan akhtar social media film also mark bollywood debut television actress roy directed gold scheduled release august \n",
            "실제 요약 : official poster of akshay kumar starrer gold released \n",
            "1/1 [==============================] - 0s 96ms/step\n",
            "1/1 [==============================] - 0s 36ms/step\n",
            "1/1 [==============================] - 0s 36ms/step\n",
            "1/1 [==============================] - 0s 34ms/step\n",
            "1/1 [==============================] - 0s 35ms/step\n",
            "1/1 [==============================] - 0s 45ms/step\n",
            "1/1 [==============================] - 0s 36ms/step\n",
            "예측 요약 :  release date of starrer released\n",
            "\n",
            "\n",
            "원문 : woman bihar district filed fir alleging women family recently prevented entering temple woman devi claimed thrashed registering fir friday priest temple however claimed incident took place village \n",
            "실제 요약 : women stopped from temple in bihar \n",
            "1/1 [==============================] - 0s 90ms/step\n",
            "1/1 [==============================] - 0s 35ms/step\n",
            "1/1 [==============================] - 0s 32ms/step\n",
            "1/1 [==============================] - 0s 21ms/step\n",
            "1/1 [==============================] - 0s 20ms/step\n",
            "1/1 [==============================] - 0s 20ms/step\n",
            "1/1 [==============================] - 0s 20ms/step\n",
            "예측 요약 :  woman woman by in haryana\n",
            "\n",
            "\n",
            "원문 : giant dog statue resembling us president donald trump placed outside shopping mall china mark chinese year dog notably trump born year dog occurs every years last year shopping centre unveiled giant also trump year \n",
            "실제 요약 : trump dog statue outside chinese \n",
            "1/1 [==============================] - 0s 53ms/step\n",
            "1/1 [==============================] - 0s 21ms/step\n",
            "1/1 [==============================] - 0s 20ms/step\n",
            "1/1 [==============================] - 0s 30ms/step\n",
            "1/1 [==============================] - 0s 21ms/step\n",
            "1/1 [==============================] - 0s 20ms/step\n",
            "예측 요약 :  trump slams us to\n",
            "\n",
            "\n",
            "원문 : products including items baba ramdev patanjali found substandard quality haridwar office rti reply revealed samples collected including patanjali amla failed test uttarakhand government lab report said patanjali md acharya denied report \n",
            "실제 요약 : ramdev patanjali products uttarakhand test \n",
            "1/1 [==============================] - 0s 57ms/step\n",
            "1/1 [==============================] - 0s 21ms/step\n",
            "1/1 [==============================] - 0s 25ms/step\n",
            "1/1 [==============================] - 0s 21ms/step\n",
            "1/1 [==============================] - 0s 21ms/step\n",
            "예측 요약 :  google launches for\n",
            "\n",
            "\n",
            "원문 : per reports maharashtra minister girish mahajan nashik mayor deputy mayor several police officers attended wedding underworld dawood ibrahim relative area recently sparked controversy nashik police commissioner ravindra ordered inquiry police officers attended event \n",
            "실제 요약 : maha minister attends wedding of dawood report \n",
            "1/1 [==============================] - 0s 55ms/step\n",
            "1/1 [==============================] - 0s 20ms/step\n",
            "1/1 [==============================] - 0s 21ms/step\n",
            "1/1 [==============================] - 0s 21ms/step\n",
            "1/1 [==============================] - 0s 23ms/step\n",
            "1/1 [==============================] - 0s 22ms/step\n",
            "예측 요약 :  up minister murder murder\n",
            "\n",
            "\n",
            "원문 : taliban sent open letter us president donald trump urging withdraw troops afghanistan previous experiences shown sending troops afghanistan result anything destruction american military might letter read taliban seeks restore islamic rule afghanistan \n",
            "실제 요약 : taliban an open letter to trump \n",
            "1/1 [==============================] - 0s 65ms/step\n",
            "1/1 [==============================] - 0s 22ms/step\n",
            "1/1 [==============================] - 0s 27ms/step\n",
            "1/1 [==============================] - 0s 21ms/step\n",
            "1/1 [==============================] - 0s 21ms/step\n",
            "1/1 [==============================] - 0s 21ms/step\n",
            "1/1 [==============================] - 0s 21ms/step\n",
            "1/1 [==============================] - 0s 24ms/step\n",
            "예측 요약 :  taliban taliban to taliban in afghanistan\n",
            "\n",
            "\n",
            "원문 : researchers california institute technology able human faces shown signals found animal brain needs around faces various features like inter eye distance skin eyes hair separate using computer \n",
            "실제 요약 : scientists human faces from brain \n",
            "1/1 [==============================] - 0s 55ms/step\n",
            "1/1 [==============================] - 0s 20ms/step\n",
            "1/1 [==============================] - 0s 23ms/step\n",
            "1/1 [==============================] - 0s 24ms/step\n",
            "1/1 [==============================] - 0s 23ms/step\n",
            "예측 요약 :  scientists discover from\n",
            "\n",
            "\n",
            "원문 : court canada convicted year old woman killing friend police officials noticed murder weapon selfie posted facebook selfie showed woman wearing belt found near dead woman body sentenced seven years jail \n",
            "실제 요약 : facebook selfie helps in canada \n",
            "1/1 [==============================] - 0s 61ms/step\n",
            "1/1 [==============================] - 0s 25ms/step\n",
            "1/1 [==============================] - 0s 25ms/step\n",
            "1/1 [==============================] - 0s 21ms/step\n",
            "1/1 [==============================] - 0s 21ms/step\n",
            "1/1 [==============================] - 0s 23ms/step\n",
            "예측 요약 :  woman shot for stealing\n",
            "\n",
            "\n",
            "원문 : two world busiest shipping lanes powerful storms areas less traffic us based study found analysing billion lightning strikes ship make cloud smaller lifting higher atmosphere thereby creating ice particles leading lightning study added \n",
            "실제 요약 : ship makes more study \n",
            "1/1 [==============================] - 0s 59ms/step\n",
            "1/1 [==============================] - 0s 22ms/step\n",
            "1/1 [==============================] - 0s 23ms/step\n",
            "1/1 [==============================] - 0s 21ms/step\n",
            "1/1 [==============================] - 0s 21ms/step\n",
            "1/1 [==============================] - 0s 20ms/step\n",
            "예측 요약 :  world largest expensive is\n",
            "\n",
            "\n",
            "원문 : kuldeep yadav indian men team first ever bowler got little emotional celebrating first wicket international cricket form david warner test saturday yadav th player feature india test ran towards catch skipper ajinkya rahane held \n",
            "실제 요약 : gets after first wicket \n",
            "1/1 [==============================] - 0s 53ms/step\n",
            "1/1 [==============================] - 0s 21ms/step\n",
            "1/1 [==============================] - 0s 23ms/step\n",
            "1/1 [==============================] - 0s 30ms/step\n",
            "1/1 [==============================] - 0s 22ms/step\n",
            "1/1 [==============================] - 0s 22ms/step\n",
            "1/1 [==============================] - 0s 21ms/step\n",
            "예측 요약 :  indian cricket team to win\n",
            "\n",
            "\n",
            "원문 : twitter search facts related delhi university adult content posts users said according experts websites make use search engines huge online traffic generated admissions links including related terms search \n",
            "실제 요약 : twitter search for delhi university shows content \n",
            "1/1 [==============================] - 0s 57ms/step\n",
            "1/1 [==============================] - 0s 20ms/step\n",
            "1/1 [==============================] - 0s 23ms/step\n",
            "1/1 [==============================] - 0s 33ms/step\n",
            "1/1 [==============================] - 0s 21ms/step\n",
            "예측 요약 :  facebook bans for\n",
            "\n",
            "\n",
            "원문 : windies captain jason holder became top ranked rounder test cricket efforts bat ball helped side defeat england first test saturday holder picked two wickets first innings match scored unbeaten double hundred second innings \n",
            "실제 요약 : becomes number test all \n",
            "1/1 [==============================] - 0s 57ms/step\n",
            "1/1 [==============================] - 0s 21ms/step\n",
            "1/1 [==============================] - 0s 23ms/step\n",
            "1/1 [==============================] - 0s 21ms/step\n",
            "1/1 [==============================] - 0s 21ms/step\n",
            "1/1 [==============================] - 0s 29ms/step\n",
            "1/1 [==============================] - 0s 23ms/step\n",
            "예측 요약 :  dhoni to odi runs in\n",
            "\n",
            "\n",
            "원문 : flipkart owned fashion subsidiaries myntra ceo resigned position first big exit flipkart co founder binny bansal resigned flipkart group ceo two months ago amar moved myntra flipkart named head myntra report kalyan krishnamurthy ceo flipkart \n",
            "실제 요약 : and ceo resigns \n",
            "1/1 [==============================] - 0s 56ms/step\n",
            "1/1 [==============================] - 0s 21ms/step\n",
            "1/1 [==============================] - 0s 28ms/step\n",
            "1/1 [==============================] - 0s 21ms/step\n",
            "1/1 [==============================] - 0s 27ms/step\n",
            "1/1 [==============================] - 0s 23ms/step\n",
            "예측 요약 :  paytm ceo to crore\n",
            "\n",
            "\n",
            "원문 : us based researchers warned traditional red powder usually worn married hindu women sold us india could unsafe levels lead samples tested least lead nearly third contained levels limit set us food drug administration \n",
            "실제 요약 : could have research \n",
            "1/1 [==============================] - 0s 56ms/step\n",
            "1/1 [==============================] - 0s 22ms/step\n",
            "1/1 [==============================] - 0s 21ms/step\n",
            "1/1 [==============================] - 0s 24ms/step\n",
            "예측 요약 :  scientists could\n",
            "\n",
            "\n",
            "원문 : new poster irrfan khan starrer unveiled directed also starring film mark bollywood debut malayalam actor story three people different life meeting road trip set release august \n",
            "실제 요약 : new poster of khan starrer unveiled \n",
            "1/1 [==============================] - 0s 62ms/step\n",
            "1/1 [==============================] - 0s 23ms/step\n",
            "1/1 [==============================] - 0s 23ms/step\n",
            "1/1 [==============================] - 0s 22ms/step\n",
            "1/1 [==============================] - 0s 23ms/step\n",
            "1/1 [==============================] - 0s 22ms/step\n",
            "예측 요약 :  song from starrer released\n",
            "\n",
            "\n",
            "원문 : google announced construction three new cables help expand cloud business cable connect chile los angeles cable connect us denmark ireland hong kong guam cable system communication asia google estimates network delivers worldwide internet traffic \n",
            "실제 요약 : google to build three new \n",
            "1/1 [==============================] - 0s 55ms/step\n",
            "1/1 [==============================] - 0s 22ms/step\n",
            "1/1 [==============================] - 0s 24ms/step\n",
            "1/1 [==============================] - 0s 30ms/step\n",
            "1/1 [==============================] - 0s 23ms/step\n",
            "1/1 [==============================] - 0s 20ms/step\n",
            "1/1 [==============================] - 0s 22ms/step\n",
            "예측 요약 :  google launches its first based\n",
            "\n",
            "\n",
            "원문 : models countries including brazil belgium recently spread message gender equality girls education district haryana models wearing red dresses carried saying beti beti stop violence women invited district administration delhi competition \n",
            "실제 요약 : raise issue of girls education in haryana \n",
            "1/1 [==============================] - 0s 60ms/step\n",
            "1/1 [==============================] - 0s 22ms/step\n",
            "1/1 [==============================] - 0s 23ms/step\n",
            "1/1 [==============================] - 0s 23ms/step\n",
            "1/1 [==============================] - 0s 21ms/step\n",
            "예측 요약 :  us bans from\n",
            "\n",
            "\n",
            "원문 : delhi congress chief ajay thursday filed complaint chief minister arvind kejriwal prevention corruption act connection recently released committee report panel report levelled corruption allegations kejriwal led government also alleged bjp government centre supporting kejriwal \n",
            "실제 요약 : congress files corruption complaint against kejriwal \n",
            "1/1 [==============================] - 0s 56ms/step\n",
            "1/1 [==============================] - 0s 22ms/step\n",
            "1/1 [==============================] - 0s 25ms/step\n",
            "1/1 [==============================] - 0s 22ms/step\n",
            "1/1 [==============================] - 0s 22ms/step\n",
            "1/1 [==============================] - 0s 23ms/step\n",
            "예측 요약 :  kejriwal files against bjp\n",
            "\n",
            "\n",
            "원문 : google employees planning women walk thursday protest company reported protection employees allegedly engaged sexual misconduct according report comes amid reports claiming google paid android co founder andy rubin million package despite claims forced oral sex employee \n",
            "실제 요약 : google employees to protest sexual reports \n",
            "1/1 [==============================] - 0s 71ms/step\n",
            "1/1 [==============================] - 0s 21ms/step\n",
            "1/1 [==============================] - 0s 21ms/step\n",
            "1/1 [==============================] - 0s 22ms/step\n",
            "1/1 [==============================] - 0s 20ms/step\n",
            "1/1 [==============================] - 0s 24ms/step\n",
            "예측 요약 :  google employees employees against\n",
            "\n",
            "\n",
            "원문 : allen vice president goldman sachs filed lawsuit bank one managers claiming black jewish claimed goldman white senior leadership team favours white promotions earn black co workers however company said claims \n",
            "실제 요약 : black sues for discrimination \n",
            "1/1 [==============================] - 0s 57ms/step\n",
            "1/1 [==============================] - 0s 25ms/step\n",
            "1/1 [==============================] - 0s 24ms/step\n",
            "1/1 [==============================] - 0s 20ms/step\n",
            "예측 요약 :  ex director\n",
            "\n",
            "\n",
            "원문 : indian science congress decided speaker selection policy two made claims submit second undertaking subject comes one claimed test tube babies \n",
            "실제 요약 : indian congress to speaker policy \n",
            "1/1 [==============================] - 0s 59ms/step\n",
            "1/1 [==============================] - 0s 23ms/step\n",
            "1/1 [==============================] - 0s 23ms/step\n",
            "1/1 [==============================] - 0s 23ms/step\n",
            "1/1 [==============================] - 0s 20ms/step\n",
            "예측 요약 :  bjp are to\n",
            "\n",
            "\n",
            "원문 : filmmaker karan johar took twitter announce parineeti chopra lead actress upcoming film paired opposite actor akshay kumar film directed anurag singh film based battle scheduled release \n",
            "실제 요약 : parineeti chopra to star in akshay kumar \n",
            "1/1 [==============================] - 0s 59ms/step\n",
            "1/1 [==============================] - 0s 21ms/step\n",
            "1/1 [==============================] - 0s 20ms/step\n",
            "1/1 [==============================] - 0s 21ms/step\n",
            "1/1 [==============================] - 0s 25ms/step\n",
            "1/1 [==============================] - 0s 20ms/step\n",
            "예측 요약 :  to star in film\n",
            "\n",
            "\n",
            "원문 : prisons us state texas banned books including best sellers like purple however list banned books include adolf hitler autobiography mein books white prisons texas ban books containing certain sexual content information manufacturing weapons among reasons \n",
            "실제 요약 : ban allow hitler \n",
            "1/1 [==============================] - 0s 57ms/step\n",
            "1/1 [==============================] - 0s 21ms/step\n",
            "1/1 [==============================] - 0s 22ms/step\n",
            "1/1 [==============================] - 0s 21ms/step\n",
            "1/1 [==============================] - 0s 21ms/step\n",
            "예측 요약 :  us to close\n",
            "\n",
            "\n",
            "원문 : least people killed around others injured sunday violent eruption volcano four decades volcano smoke rocks km air forcing mass evacuation nearby villages president jimmy said considering declaring state emergency \n",
            "실제 요약 : killed injured as volcano in \n",
            "1/1 [==============================] - 0s 59ms/step\n",
            "1/1 [==============================] - 0s 24ms/step\n",
            "1/1 [==============================] - 0s 20ms/step\n",
            "1/1 [==============================] - 0s 20ms/step\n",
            "1/1 [==============================] - 0s 20ms/step\n",
            "1/1 [==============================] - 0s 22ms/step\n",
            "예측 요약 :  killed as in mexico\n",
            "\n",
            "\n",
            "원문 : cat named appointed chief british embassy jordan named former british military officer cat adopted animal shelter last month gained twitter followers since apart duties followers twitter said official \n",
            "실제 요약 : british embassy in appointed chief \n",
            "1/1 [==============================] - 0s 63ms/step\n",
            "1/1 [==============================] - 0s 21ms/step\n",
            "1/1 [==============================] - 0s 22ms/step\n",
            "1/1 [==============================] - 0s 22ms/step\n",
            "1/1 [==============================] - 0s 21ms/step\n",
            "예측 요약 :  indian team team\n",
            "\n",
            "\n",
            "원문 : facebook owned photo sharing platform instagram started testing direct standalone app offers private messaging users user direct instagram app accessed new messaging app direct facebook third standalone messaging application whatsapp messenger \n",
            "실제 요약 : instagram tests app for private \n",
            "1/1 [==============================] - 0s 101ms/step\n",
            "1/1 [==============================] - 0s 35ms/step\n",
            "1/1 [==============================] - 0s 36ms/step\n",
            "1/1 [==============================] - 0s 36ms/step\n",
            "1/1 [==============================] - 0s 36ms/step\n",
            "1/1 [==============================] - 0s 31ms/step\n",
            "1/1 [==============================] - 0s 43ms/step\n",
            "예측 요약 :  facebook launches feature for users\n",
            "\n",
            "\n",
            "원문 : discovery communications acquiring networks interactive deal worth billion discovery paying cash stock acquisition brings together lifestyle channels travel channel food network discovery animal planet discovery channel targeted close early \n",
            "실제 요약 : to buy food network owner for crore \n",
            "1/1 [==============================] - 0s 87ms/step\n",
            "1/1 [==============================] - 0s 34ms/step\n",
            "1/1 [==============================] - 0s 32ms/step\n",
            "1/1 [==============================] - 0s 32ms/step\n",
            "1/1 [==============================] - 0s 31ms/step\n",
            "1/1 [==============================] - 0s 34ms/step\n",
            "1/1 [==============================] - 0s 31ms/step\n",
            "예측 요약 :  us firm exchange to crore\n",
            "\n",
            "\n",
            "원문 : legislative assembly canadian province thursday passed motion describing anti sikh riots india however indian government reportedly concern motion canadian pm justin trudeau cabinet advance anti sikh riots broken assassination pm indira gandhi \n",
            "실제 요약 : canadian declares anti sikh riots as \n",
            "1/1 [==============================] - 0s 80ms/step\n",
            "1/1 [==============================] - 0s 38ms/step\n",
            "1/1 [==============================] - 0s 34ms/step\n",
            "1/1 [==============================] - 0s 33ms/step\n",
            "1/1 [==============================] - 0s 36ms/step\n",
            "1/1 [==============================] - 0s 22ms/step\n",
            "1/1 [==============================] - 0s 21ms/step\n",
            "예측 요약 :  zimbabwe president calls pm modi\n",
            "\n",
            "\n",
            "원문 : telecom regulator trai wednesday charges mobile number almost maximum prescribed ceiling rates till trai said earlier ceiling quite high owing low cost high volume transactions involved \n",
            "실제 요약 : mobile number charges to \n",
            "1/1 [==============================] - 0s 61ms/step\n",
            "1/1 [==============================] - 0s 21ms/step\n",
            "1/1 [==============================] - 0s 20ms/step\n",
            "1/1 [==============================] - 0s 22ms/step\n",
            "1/1 [==============================] - 0s 21ms/step\n",
            "예측 요약 :  iit to introduce\n",
            "\n",
            "\n",
            "원문 : portugal interior minister de resigned post amid criticism government handling series deadly forest fires country killed people four months accepting resignation portugal pm antonio admitted state service providers made serious errors problem \n",
            "실제 요약 : minister resigns after kill \n",
            "1/1 [==============================] - 0s 57ms/step\n",
            "1/1 [==============================] - 0s 29ms/step\n",
            "1/1 [==============================] - 0s 27ms/step\n",
            "1/1 [==============================] - 0s 21ms/step\n",
            "1/1 [==============================] - 0s 21ms/step\n",
            "예측 요약 :  pak minister resigns\n",
            "\n",
            "\n",
            "원문 : billionaire elon musk wednesday tweeted love floors followed several tweets users reacted tweets like elon musk company confirmed love look floors user also tweeted want someone love much elon musk loves floors \n",
            "실제 요약 : twitter reacts to elon musk love \n",
            "1/1 [==============================] - 0s 55ms/step\n",
            "1/1 [==============================] - 0s 21ms/step\n",
            "1/1 [==============================] - 0s 31ms/step\n",
            "1/1 [==============================] - 0s 24ms/step\n",
            "1/1 [==============================] - 0s 25ms/step\n",
            "1/1 [==============================] - 0s 21ms/step\n",
            "1/1 [==============================] - 0s 22ms/step\n",
            "예측 요약 :  twitter zuckerberg shares feature on\n",
            "\n",
            "\n",
            "원문 : state run north korean media accused us criminal plot regime claiming us special units japan air drill aimed capital accused us double dealing president donald trump postponed state secretary mike pompeo visit country \n",
            "실제 요약 : us criminal against us north korea \n",
            "1/1 [==============================] - 0s 56ms/step\n",
            "1/1 [==============================] - 0s 21ms/step\n",
            "1/1 [==============================] - 0s 21ms/step\n",
            "1/1 [==============================] - 0s 21ms/step\n",
            "1/1 [==============================] - 0s 21ms/step\n",
            "1/1 [==============================] - 0s 22ms/step\n",
            "1/1 [==============================] - 0s 21ms/step\n",
            "예측 요약 :  us arabia to korean us\n",
            "\n",
            "\n",
            "원문 : ahead indian prime minister narendra modi meeting us president donald trump united states monday designated hizbul mujahideen chief syed specially designated global terrorist threatening turn kashmir valley indian forces earlier vowed block peaceful resolution kashmir conflict \n",
            "실제 요약 : us chief as global terrorist \n",
            "1/1 [==============================] - 0s 60ms/step\n",
            "1/1 [==============================] - 0s 22ms/step\n",
            "1/1 [==============================] - 0s 21ms/step\n",
            "1/1 [==============================] - 0s 21ms/step\n",
            "1/1 [==============================] - 0s 22ms/step\n",
            "1/1 [==============================] - 0s 24ms/step\n",
            "1/1 [==============================] - 0s 21ms/step\n",
            "1/1 [==============================] - 0s 21ms/step\n",
            "예측 요약 :  trump calls hafiz saeed in india\n",
            "\n",
            "\n",
            "원문 : demise former team india captain manager ajit former captain coach anil kumble tweeted father figure entire team condolences family loved ones missed thank sir confidence shown ability kumble wrote \n",
            "실제 요약 : was father anil kumble \n",
            "1/1 [==============================] - 0s 58ms/step\n",
            "1/1 [==============================] - 0s 29ms/step\n",
            "1/1 [==============================] - 0s 20ms/step\n",
            "1/1 [==============================] - 0s 23ms/step\n",
            "예측 요약 :  to play\n",
            "\n",
            "\n",
            "원문 : indonesian police chief wednesday announced plans deploy task force investigate activity stating particularly focused secret parties chief reportedly said people disease body announcement came day two gay men publicly province \n",
            "실제 요약 : indonesia announces police force to target \n",
            "1/1 [==============================] - 0s 58ms/step\n",
            "1/1 [==============================] - 0s 22ms/step\n",
            "1/1 [==============================] - 0s 22ms/step\n",
            "1/1 [==============================] - 0s 20ms/step\n",
            "1/1 [==============================] - 0s 23ms/step\n",
            "1/1 [==============================] - 0s 24ms/step\n",
            "예측 요약 :  islamic state bans in\n",
            "\n",
            "\n",
            "원문 : virgin hyperloop one achieved record speed nearly kmph third phase testing hyperloop test site us record breached previous record kmph achieved high speed transportation technology startup august hyperloop one use magnetic travel near vacuum \n",
            "실제 요약 : one record of \n",
            "1/1 [==============================] - 0s 56ms/step\n",
            "1/1 [==============================] - 0s 21ms/step\n",
            "1/1 [==============================] - 0s 21ms/step\n",
            "1/1 [==============================] - 0s 23ms/step\n",
            "1/1 [==============================] - 0s 24ms/step\n",
            "1/1 [==============================] - 0s 30ms/step\n",
            "예측 요약 :  world largest world largest\n",
            "\n",
            "\n",
            "원문 : indian chinese soldiers performed together th india joint exercise hand hand china sharing video indian army official twitter handle wrote troops indian army chinese army sharing moments battle course exercise aims build promote close relations countries \n",
            "실제 요약 : indian chinese troops perform during military \n",
            "1/1 [==============================] - 0s 57ms/step\n",
            "1/1 [==============================] - 0s 22ms/step\n",
            "1/1 [==============================] - 0s 20ms/step\n",
            "1/1 [==============================] - 0s 21ms/step\n",
            "1/1 [==============================] - 0s 24ms/step\n",
            "1/1 [==============================] - 0s 23ms/step\n",
            "1/1 [==============================] - 0s 21ms/step\n",
            "예측 요약 :  china chinese chinese chinese attack\n",
            "\n",
            "\n",
            "원문 : year old born man arrested driving truck crowd sweden last week denied permanent sweden shown extremist organisations including islamic state suspect also wanted police failing comply deportation order application denied \n",
            "실제 요약 : terrorist was denied permanent in sweden \n",
            "1/1 [==============================] - 0s 57ms/step\n",
            "1/1 [==============================] - 0s 20ms/step\n",
            "1/1 [==============================] - 0s 20ms/step\n",
            "1/1 [==============================] - 0s 21ms/step\n",
            "1/1 [==============================] - 0s 20ms/step\n",
            "1/1 [==============================] - 0s 21ms/step\n",
            "1/1 [==============================] - 0s 23ms/step\n",
            "예측 요약 :  man kills shoots shot after\n",
            "\n",
            "\n",
            "원문 : cbi booked serving retired officials connection crore scam officials accused misusing positions giving contract worth crore deep industries supplying gas units causing loss crore fraud allegedly committed officials \n",
            "실제 요약 : cbi officials in crore scam case \n",
            "1/1 [==============================] - 0s 56ms/step\n",
            "1/1 [==============================] - 0s 22ms/step\n",
            "1/1 [==============================] - 0s 22ms/step\n",
            "1/1 [==============================] - 0s 23ms/step\n",
            "1/1 [==============================] - 0s 25ms/step\n",
            "1/1 [==============================] - 0s 22ms/step\n",
            "1/1 [==============================] - 0s 21ms/step\n",
            "1/1 [==============================] - 0s 26ms/step\n",
            "예측 요약 :  cbi assets crore in scam scam\n",
            "\n",
            "\n",
            "원문 : us president donald trump called world trade organisation accusing trade body making tough us business trump cited north american free trade agreement us canada mexico saying could impose higher import tariffs two countries due rules \n",
            "실제 요약 : trump calls world trade \n",
            "1/1 [==============================] - 0s 62ms/step\n",
            "1/1 [==============================] - 0s 22ms/step\n",
            "1/1 [==============================] - 0s 21ms/step\n",
            "1/1 [==============================] - 0s 20ms/step\n",
            "1/1 [==============================] - 0s 28ms/step\n",
            "1/1 [==============================] - 0s 21ms/step\n",
            "1/1 [==============================] - 0s 21ms/step\n",
            "예측 요약 :  trump threatens us to us\n",
            "\n",
            "\n",
            "원문 : least people died injured stampede foot bridge elphinstone railway station mumbai friday required agencies rescue relief work injured taken nearby hospital reportedly rumours short circuit due heavy rains triggered stampede \n",
            "실제 요약 : dead injured in at mumbai railway station \n",
            "1/1 [==============================] - 0s 56ms/step\n",
            "1/1 [==============================] - 0s 22ms/step\n",
            "1/1 [==============================] - 0s 21ms/step\n",
            "1/1 [==============================] - 0s 24ms/step\n",
            "1/1 [==============================] - 0s 21ms/step\n",
            "1/1 [==============================] - 0s 34ms/step\n",
            "1/1 [==============================] - 0s 21ms/step\n",
            "예측 요약 :  dead as boat in bihar\n",
            "\n",
            "\n",
            "원문 : us expressed concerns russian satellite displaying behaviour us said satellite launched displayed behaviour anything seen russian inspection satellites apparently may space weapon russia claims satellite designed towards satellites already orbit \n",
            "실제 요약 : us over russian satellite behaviour \n",
            "1/1 [==============================] - 0s 53ms/step\n",
            "1/1 [==============================] - 0s 22ms/step\n",
            "1/1 [==============================] - 0s 22ms/step\n",
            "1/1 [==============================] - 0s 29ms/step\n",
            "1/1 [==============================] - 0s 20ms/step\n",
            "1/1 [==============================] - 0s 20ms/step\n",
            "예측 요약 :  us to launch us\n",
            "\n",
            "\n",
            "원문 : officials seized cash worth around crore items worth crore karnataka ahead assembly election scheduled next month state deployed flying surveillance teams monitor electoral process officials registered firs connection violations model code conduct \n",
            "실제 요약 : crore cash recovered from poll taka \n",
            "1/1 [==============================] - 0s 61ms/step\n",
            "1/1 [==============================] - 0s 20ms/step\n",
            "1/1 [==============================] - 0s 21ms/step\n",
            "1/1 [==============================] - 0s 26ms/step\n",
            "1/1 [==============================] - 0s 24ms/step\n",
            "1/1 [==============================] - 0s 23ms/step\n",
            "1/1 [==============================] - 0s 20ms/step\n",
            "1/1 [==============================] - 0s 20ms/step\n",
            "예측 요약 :  crore worth crore seized in delhi\n",
            "\n",
            "\n",
            "원문 : american model opening religion said proud muslim dad refugee first came america actually close home sister brother added earlier slammed us president donald trump immigration ban \n",
            "실제 요약 : am to be muslim \n",
            "1/1 [==============================] - 0s 55ms/step\n",
            "1/1 [==============================] - 0s 22ms/step\n",
            "1/1 [==============================] - 0s 21ms/step\n",
            "1/1 [==============================] - 0s 23ms/step\n",
            "예측 요약 :  was for\n",
            "\n",
            "\n",
            "원문 : poster sridevi nawazuddin siddiqui upcoming film mom unveiled poster features semi nawazuddin glasses teeth wearing nehru jacket movie also stars akshaye khanna singh directed ravi scheduled release july \n",
            "실제 요약 : poster of sridevi nawazuddin upcoming film unveiled \n",
            "1/1 [==============================] - 0s 54ms/step\n",
            "1/1 [==============================] - 0s 27ms/step\n",
            "1/1 [==============================] - 0s 22ms/step\n",
            "1/1 [==============================] - 0s 20ms/step\n",
            "1/1 [==============================] - 0s 23ms/step\n",
            "1/1 [==============================] - 0s 24ms/step\n",
            "1/1 [==============================] - 0s 22ms/step\n",
            "예측 요약 :  release date of hrithik announced\n",
            "\n",
            "\n"
          ]
        }
      ],
      "source": [
        "for i in range(50, 100):\n",
        "    print(\"원문 :\", seq2text(encoder_input_test[i]))\n",
        "    print(\"실제 요약 :\", seq2summary(decoder_input_test[i]))\n",
        "    print(\"예측 요약 :\", decode_sequence(encoder_input_test[i].reshape(1, text_max_len)))\n",
        "    print(\"\\n\")"
      ]
    },
    {
      "cell_type": "markdown",
      "metadata": {
        "id": "bSoK1O2_dsS3"
      },
      "source": [
        "### Extractive Summarization"
      ]
    },
    {
      "cell_type": "code",
      "execution_count": null,
      "metadata": {
        "id": "yQNkDuJ2dsS3"
      },
      "outputs": [],
      "source": [
        "urllib.request.urlretrieve(\"https://raw.githubusercontent.com/sunnysai12345/News_Summary/master/news_summary_more.csv\", filename=\"news_summary_more.csv\")\n",
        "data = pd.read_csv('news_summary_more.csv', encoding='iso-8859-1')"
      ]
    },
    {
      "cell_type": "code",
      "execution_count": null,
      "metadata": {
        "id": "FJAPAEmydsS3",
        "outputId": "3f1fd0ca-ae40-4d09-b0be-6871490cb2fe",
        "colab": {
          "base_uri": "https://localhost:8080/"
        }
      },
      "outputs": [
        {
          "output_type": "stream",
          "name": "stdout",
          "text": [
            "원문 : Saurav Kant, an alumnus of upGrad and IIIT-B's PG Program in Machine learning and Artificial Intelligence, was a Sr Systems Engineer at Infosys with almost 5 years of work experience. The program and upGrad's 360-degree career support helped him transition to a Data Scientist at Tech Mahindra with 90% salary hike. upGrad's Online Power Learning has powered 3 lakh+ careers.\n",
            "실제 요약 : upGrad learner switches to career in ML & Al with 90% salary hike\n",
            "예측 요약 : upGrad's Online Power Learning has powered 3 lakh+ careers.\n",
            "\n",
            "\n",
            "원문 : Kunal Shah's credit card bill payment platform, CRED, gave users a chance to win free food from Swiggy for one year. Pranav Kaushik, a Delhi techie, bagged this reward after spending 2000 CRED coins. Users get one CRED coin per rupee of bill paid, which can be used to avail rewards from brands like Ixigo, BookMyShow, UberEats, Cult.Fit and more.\n",
            "실제 요약 : Delhi techie wins free food from Swiggy for one year on CRED\n",
            "예측 요약 : Users get one CRED coin per rupee of bill paid, which can be used to avail rewards from brands like Ixigo, BookMyShow, UberEats, Cult.Fit and more.\n",
            "\n",
            "\n",
            "원문 : New Zealand defeated India by 8 wickets in the fourth ODI at Hamilton on Thursday to win their first match of the five-match ODI series. India lost an international match under Rohit Sharma's captaincy after 12 consecutive victories dating back to March 2018. The match witnessed India getting all out for 92, their seventh lowest total in ODI cricket history.\n",
            "실제 요약 : New Zealand end Rohit Sharma-led India's 12-match winning streak\n",
            "예측 요약 : The match witnessed India getting all out for 92, their seventh lowest total in ODI cricket history.\n",
            "\n",
            "\n",
            "원문 : With Aegon Life iTerm Insurance plan, customers can enjoy tax benefits on your premiums paid and save up to Ã¢ÂÂ¹46,800^ on taxes. The plan provides life cover up to the age of 100 years. Also, customers have options to insure against Critical Illnesses, Disability and Accidental Death Benefit Rider with a life cover up to the age of 80 years.\n",
            "실제 요약 : Aegon life iTerm insurance plan helps customers save tax\n",
            "예측 요약 : Also, customers have options to insure against Critical Illnesses, Disability and Accidental Death Benefit Rider with a life cover up to the age of 80 years.\n",
            "\n",
            "\n",
            "원문 : Speaking about the sexual harassment allegations against Rajkumar Hirani, Sonam Kapoor said, \"I've known Hirani for many years...What if it's not true, the [#MeToo] movement will get derailed.\" \"In the #MeToo movement, I always believe a woman. But in this case, we need to reserve our judgment,\" she added. Hirani has been accused by an assistant who worked in 'Sanju'.\n",
            "실제 요약 : Have known Hirani for yrs, what if MeToo claims are not true: Sonam\n",
            "예측 요약 : Speaking about the sexual harassment allegations against Rajkumar Hirani, Sonam Kapoor said, \"I've known Hirani for many years...What if it's not true, the [#MeToo] movement will get derailed.\" \"In the #MeToo movement, I always believe a woman.\n",
            "\n",
            "\n",
            "원문 : Pakistani singer Rahat Fateh Ali Khan has denied receiving any notice from the Enforcement Directorate over allegedly smuggling foreign currency out of India. \"It would have been better if the authorities would have served the notice first if any and then publicised this,\" reads a press release issued on behalf of Rahat. The statement further called the allegation \"bizarre\".\n",
            "실제 요약 : Rahat Fateh Ali Khan denies getting notice for smuggling currency\n",
            "예측 요약 : Pakistani singer Rahat Fateh Ali Khan has denied receiving any notice from the Enforcement Directorate over allegedly smuggling foreign currency out of India.\n",
            "\n",
            "\n",
            "원문 : India recorded their lowest ODI total in New Zealand after getting all out for 92 runs in 30.5 overs in the fourth ODI at Hamilton on Thursday. Seven of India's batsmen were dismissed for single-digit scores, while their number ten batsman Yuzvendra Chahal top-scored with 18*(37). India's previous lowest ODI total in New Zealand was 108.\n",
            "실제 요약 : India get all out for 92, their lowest ODI total in New Zealand\n",
            "예측 요약 : India's previous lowest ODI total in New Zealand was 108.\n",
            "\n",
            "\n",
            "원문 : Weeks after ex-CBI Director Alok Verma told the Department of Personnel and Training to consider him retired, the Home Ministry asked him to join work on the last day of his fixed tenure as Director on Thursday. The ministry directed him to immediately join as DG, Fire Services, the post he was transferred to after his removal as CBI chief.\n",
            "실제 요약 : Govt directs Alok Verma to join work 1 day before his retirement\n",
            "예측 요약 : \n",
            "\n",
            "\n",
            "원문 : Andhra Pradesh CM N Chandrababu Naidu has said, \"When I met then US President Bill Clinton, I addressed him as Mr Clinton, not as 'sir'. (PM Narendra) Modi is my junior in politics...I addressed him as sir 10 times.\" \"I did this...to satisfy his ego in the hope that he will do justice to the state,\" he added.\n",
            "실제 요약 : Called PM Modi 'sir' 10 times to satisfy his ego: Andhra CM\n",
            "예측 요약 : \n",
            "\n",
            "\n",
            "원문 : Congress candidate Shafia Zubair won the Ramgarh Assembly seat in Rajasthan, by defeating BJP's Sukhwant Singh with a margin of 12,228 votes in the bypoll. With this victory, Congress has taken its total to 100 seats in the 200-member assembly. The election to the Ramgarh seat was delayed due to the death of sitting MLA and BSP candidate Laxman Singh.\n",
            "실제 요약 : Cong wins Ramgarh bypoll in Rajasthan, takes total to 100 seats\n",
            "예측 요약 : Congress candidate Shafia Zubair won the Ramgarh Assembly seat in Rajasthan, by defeating BJP's Sukhwant Singh with a margin of 12,228 votes in the bypoll.\n",
            "\n",
            "\n",
            "원문 : Two minor cousins in Uttar Pradesh's Gorakhpur were allegedly repeatedly burnt with tongs and forced to eat human excreta by their family for being friends with two boys from the same school. The cousins revealed their ordeal to the police and Child Welfare Committee after being brought back to Gorakhpur from Nepal, where they had fled to escape the torture.\n",
            "실제 요약 : UP cousins fed human excreta for friendship with boys\n",
            "예측 요약 : \n",
            "\n",
            "\n",
            "원문 : Isha Ghosh, an 81-year-old member of Bharat Scouts and Guides (BSG), has been imparting physical and mental training to schoolchildren in Jharkhand for several decades. Chaibasa-based Ghosh reportedly walks seven kilometres daily and spends eight hours conducting physical training, apart from climbing and yoga sessions. She says, \"One should do something for society till one's last breath.\"\n",
            "실제 요약 : 81-yr-old woman conducts physical training in J'khand schools\n",
            "예측 요약 : Isha Ghosh, an 81-year-old member of Bharat Scouts and Guides (BSG), has been imparting physical and mental training to schoolchildren in Jharkhand for several decades.\n",
            "\n",
            "\n",
            "원문 : Urging saints and seers at the Kumbh Mela to quit smoking, Yoga guru Ramdev said, \"We follow Ram and Krishna who never smoked in their life then why should we?\" Making them take a pledge to quit tobacco, he collected chillum (clay pipe) from several sadhus. He said he will deposit the chillums for display at a museum he'll build.\n",
            "실제 요약 : Ram, Krishna didn't smoke, why should we: Ramdev to sadhus at Kumbh\n",
            "예측 요약 : \n",
            "\n",
            "\n",
            "원문 : Former stripper and regional sales director of a pharmaceutical company, Sunrise Lee, gave a doctor a lap dance in a nightclub to persuade him to prescribe an addictive fentanyl spray in 2012, the company's sales representative told a US court. She said she saw Lee \"sitting on [doctor's] lap, kind of bouncing around.\" Lee has been accused of bribing doctors.\n",
            "실제 요약 : Pharma exec gave doctor a lap dance to sell medicine in US: Witness\n",
            "예측 요약 : \n",
            "\n",
            "\n",
            "원문 : Reliance Industries' Chairman Mukesh Ambani's daughter Isha Ambani, who got married last month, said she only cried at her 'bidaai' because she felt peer pressure as everyone was crying, especially her parents. \"I was emotional too but everyone around me would cry all the time,\" she added. \"It was a very emotional affair for everyone in my family,\" said Isha.\n",
            "실제 요약 :  I only cried at my 'bidaai' as I felt peer pressure: Isha Ambani\n",
            "예측 요약 : \"It was a very emotional affair for everyone in my family,\" said Isha.\n",
            "\n",
            "\n",
            "원문 : Louis Vuitton owner LVMH, which makes high-end beverages like MoÃÂ«t & Chandon champagne and Hennessy cognac, said it's stockpiling four months' worth of wine and spirits in UK in preparation for Brexit. \"We're ready for worst case scenario if there are difficulties with deliveries,\" the French luxury giant said. The UK is scheduled to leave the EU on March 29.\n",
            "실제 요약 : Louis Vuitton owner to stockpile 4 months of wine, spirits in UK\n",
            "예측 요약 : Louis Vuitton owner LVMH, which makes high-end beverages like MoÃÂ«t & Chandon champagne and Hennessy cognac, said it's stockpiling four months' worth of wine and spirits in UK in preparation for Brexit.\n",
            "\n",
            "\n",
            "원문 : Filmmaker Karan Johar and actress Tabu turned showstoppers for Gaurav Gupta on the opening night of LakmÃÂ© Fashion Week Summer/ Resort 2019. While Johar wore a red sequinned jacket with black pants, Tabu walked the ramp in a grey embellished gown. The fashion show, which began on January 29, will continue till February 3.\n",
            "실제 요약 : Karan Johar, Tabu turn showstoppers on opening night of LFW\n",
            "예측 요약 : Filmmaker Karan Johar and actress Tabu turned showstoppers for Gaurav Gupta on the opening night of LakmÃÂ© Fashion Week Summer/ Resort 2019.\n",
            "\n",
            "\n",
            "원문 : In a jibe at Congress President Rahul Gandhi, PM Narendra Modi on Wednesday said those on \"bail will have to go to jail.\" PM Modi added, \"He is out on bail and his associates too are facing charges...I know they will be convicted one day.\" The PM claimed he'd waged a war on corruption because he's from a common household. \n",
            "실제 요약 : Those on bail will go to jail: PM Modi takes jibe at Rahul\n",
            "예측 요약 : \n",
            "\n",
            "\n",
            "원문 : Days after he threatened to step down from his post if Congress MLAs continue \"crossing the line,\" Karnataka Chief Minister HD Kumaraswamy accused them of taking potshots and asked, \"How many more days can I tolerate such stuff?\" Kumaraswamy, who made the statements after a Congress MLA demanded that Siddaramaiah be made CM again, said, \"Power is ephemeral.\"\n",
            "실제 요약 : How long can I tolerate Congress leaders' potshots: K'taka CM\n",
            "예측 요약 : \n",
            "\n",
            "\n",
            "원문 : Union Minister Dharmendra Pradhan on Wednesday claimed the illegal mining mafia in Odisha operates under the control of CM Naveen Patnaik and state Congress chief Niranjan Patnaik. He added, \"The time has come for the people of Odisha to put a full stop to their activities...The time has come for us to ask for an explanation from this corrupt government.\"\n",
            "실제 요약 : Odisha CM Patnaik controls mining mafia: Union Minister\n",
            "예측 요약 : \n",
            "\n",
            "\n"
          ]
        }
      ],
      "source": [
        "for idx, (head, text) in enumerate(zip(data['headlines'], data['text'])):\n",
        "    if idx == 20:\n",
        "        break\n",
        "    print(\"원문 :\", text)\n",
        "    print(\"실제 요약 :\", head)\n",
        "    print(\"예측 요약 :\", summarize(text, ratio=0.35))\n",
        "    print(\"\\n\")"
      ]
    },
    {
      "cell_type": "markdown",
      "metadata": {
        "id": "9FKD5fR0dsS3"
      },
      "source": [
        "## Report"
      ]
    },
    {
      "cell_type": "markdown",
      "metadata": {
        "id": "XJ7NnEsBdsS3"
      },
      "source": [
        "Text Summarization을 시행 Abstractive Summarization, Extractive Summarization와의 성능 차이\n",
        "\n",
        "- Abstractive Summarization  \n",
        "자연어로 된 긴 문서가 주어졌을 때 문서의 중요한 내용은 유지하면서 짧은 요약문을 생성하는 것을 목표\n",
        "    Extractive Summarization보다 성능이 좋은 것 같고, 전처리를 더 잘하고, 모델 학습을 성능개선기대\n",
        "- Extractive Summarization  :추출적 요약으로서 원문에서 중요한 핵심 문장 또는 단어구를 몇 개 뽑아서 이들로 구성된 요약문을 만드는 방법\n",
        "\n",
        "    하지만 빈 리스트의 문장을 반환하는 경우도 있었음. ratio를 조절해서 어느 정도 해결이 되지만, 예측된 요약이 적절하지는 않았음"
      ]
    }
  ],
  "metadata": {
    "kernelspec": {
      "display_name": "Python 3",
      "name": "python3"
    },
    "language_info": {
      "name": "python"
    },
    "toc": {
      "base_numbering": 1,
      "nav_menu": {},
      "number_sections": true,
      "sideBar": true,
      "skip_h1_title": true,
      "title_cell": "Table of Contents",
      "title_sidebar": "Contents",
      "toc_cell": false,
      "toc_position": {
        "height": "calc(100% - 180px)",
        "left": "10px",
        "top": "150px",
        "width": "384px"
      },
      "toc_section_display": true,
      "toc_window_display": true
    },
    "colab": {
      "provenance": [],
      "gpuType": "T4",
      "include_colab_link": true
    },
    "accelerator": "GPU"
  },
  "nbformat": 4,
  "nbformat_minor": 0
}
